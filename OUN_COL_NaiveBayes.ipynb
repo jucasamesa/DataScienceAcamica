{
 "cells": [
  {
   "cell_type": "code",
   "execution_count": 1,
   "metadata": {},
   "outputs": [],
   "source": [
    "import numpy as np # linear algebra\n",
    "import pandas as pd # data processing, CSV file I/O (e.g. pd.read_csv)\n",
    "import matplotlib.pyplot as plt # for data visualization purposes\n",
    "import seaborn as sns # for statistical data visualization\n",
    "%matplotlib inline\n",
    "\n",
    "import os\n",
    "for dirname, _, filenames in os.walk('/kaggle/input'):\n",
    "    for filename in filenames:\n",
    "        print(os.path.join(dirname, filename))\n",
    "\n",
    "# Any results you write to the current directory are saved as output."
   ]
  },
  {
   "cell_type": "code",
   "execution_count": 2,
   "metadata": {},
   "outputs": [],
   "source": [
    "dfc = pd.read_csv(r\"C:\\Users\\Usuario\\Desktop\\HackatonABInBev\\reto-colombia-2020-main\\data\\Input1_clientes_estructura.csv\",\n",
    "                 delimiter=';', header=0)\n",
    "dfv = pd.read_csv(r\"C:\\Users\\Usuario\\Desktop\\HackatonABInBev\\reto-colombia-2020-main\\data\\Input2_clientes_venta.csv\",\n",
    "                 delimiter=';', header=0)\n",
    "dfo = pd.read_csv(r\"C:\\Users\\Usuario\\Desktop\\HackatonABInBev\\reto-colombia-2020-main\\data\\Input3_clientes_test.csv\",\n",
    "                 delimiter=';', header=0)"
   ]
  },
  {
   "cell_type": "code",
   "execution_count": 3,
   "metadata": {},
   "outputs": [],
   "source": [
    "dfco = pd.merge(dfc, dfo, on=\"Cliente\")"
   ]
  },
  {
   "cell_type": "code",
   "execution_count": 4,
   "metadata": {},
   "outputs": [],
   "source": [
    "dfc.drop([\"Regional2\"], axis = 1, inplace =True)"
   ]
  },
  {
   "cell_type": "code",
   "execution_count": 5,
   "metadata": {},
   "outputs": [
    {
     "data": {
      "text/html": [
       "<div>\n",
       "<style scoped>\n",
       "    .dataframe tbody tr th:only-of-type {\n",
       "        vertical-align: middle;\n",
       "    }\n",
       "\n",
       "    .dataframe tbody tr th {\n",
       "        vertical-align: top;\n",
       "    }\n",
       "\n",
       "    .dataframe thead th {\n",
       "        text-align: right;\n",
       "    }\n",
       "</style>\n",
       "<table border=\"1\" class=\"dataframe\">\n",
       "  <thead>\n",
       "    <tr style=\"text-align: right;\">\n",
       "      <th></th>\n",
       "      <th>Año</th>\n",
       "      <th>Mes</th>\n",
       "      <th>Cliente</th>\n",
       "      <th>SegmentoPrecio2</th>\n",
       "      <th>Marca2</th>\n",
       "      <th>Cupo2</th>\n",
       "      <th>CapacidadEnvase2</th>\n",
       "      <th>Volumen</th>\n",
       "      <th>disc</th>\n",
       "      <th>nr</th>\n",
       "      <th>Marca</th>\n",
       "    </tr>\n",
       "  </thead>\n",
       "  <tbody>\n",
       "    <tr>\n",
       "      <th>850057</th>\n",
       "      <td>2020</td>\n",
       "      <td>7</td>\n",
       "      <td>12740</td>\n",
       "      <td>SegmentoPrecio_1</td>\n",
       "      <td>Marca_5</td>\n",
       "      <td>Cupo_1</td>\n",
       "      <td>CapacidadEnvase_10</td>\n",
       "      <td>0.069550</td>\n",
       "      <td>-33.374006</td>\n",
       "      <td>660.710523</td>\n",
       "      <td>NaN</td>\n",
       "    </tr>\n",
       "    <tr>\n",
       "      <th>1389289</th>\n",
       "      <td>2020</td>\n",
       "      <td>8</td>\n",
       "      <td>15178</td>\n",
       "      <td>SegmentoPrecio_3</td>\n",
       "      <td>Marca_39</td>\n",
       "      <td>Cupo_2</td>\n",
       "      <td>CapacidadEnvase_10</td>\n",
       "      <td>0.000000</td>\n",
       "      <td>0.000000</td>\n",
       "      <td>0.000000</td>\n",
       "      <td>5.0</td>\n",
       "    </tr>\n",
       "    <tr>\n",
       "      <th>1318828</th>\n",
       "      <td>2020</td>\n",
       "      <td>7</td>\n",
       "      <td>13924</td>\n",
       "      <td>SegmentoPrecio_1</td>\n",
       "      <td>Marca_4</td>\n",
       "      <td>Cupo_2</td>\n",
       "      <td>CapacidadEnvase_10</td>\n",
       "      <td>0.369485</td>\n",
       "      <td>0.000000</td>\n",
       "      <td>2573.567966</td>\n",
       "      <td>NaN</td>\n",
       "    </tr>\n",
       "    <tr>\n",
       "      <th>852000</th>\n",
       "      <td>2020</td>\n",
       "      <td>7</td>\n",
       "      <td>12799</td>\n",
       "      <td>SegmentoPrecio_1</td>\n",
       "      <td>Marca_1</td>\n",
       "      <td>Cupo_2</td>\n",
       "      <td>CapacidadEnvase_17</td>\n",
       "      <td>0.028540</td>\n",
       "      <td>0.000000</td>\n",
       "      <td>144.565813</td>\n",
       "      <td>NaN</td>\n",
       "    </tr>\n",
       "    <tr>\n",
       "      <th>1123285</th>\n",
       "      <td>2019</td>\n",
       "      <td>8</td>\n",
       "      <td>630</td>\n",
       "      <td>SegmentoPrecio_1</td>\n",
       "      <td>Marca_1</td>\n",
       "      <td>Cupo_1</td>\n",
       "      <td>CapacidadEnvase_14</td>\n",
       "      <td>0.037383</td>\n",
       "      <td>0.000000</td>\n",
       "      <td>276.907133</td>\n",
       "      <td>NaN</td>\n",
       "    </tr>\n",
       "  </tbody>\n",
       "</table>\n",
       "</div>"
      ],
      "text/plain": [
       "          Año  Mes  Cliente   SegmentoPrecio2    Marca2   Cupo2  \\\n",
       "850057   2020    7    12740  SegmentoPrecio_1   Marca_5  Cupo_1   \n",
       "1389289  2020    8    15178  SegmentoPrecio_3  Marca_39  Cupo_2   \n",
       "1318828  2020    7    13924  SegmentoPrecio_1   Marca_4  Cupo_2   \n",
       "852000   2020    7    12799  SegmentoPrecio_1   Marca_1  Cupo_2   \n",
       "1123285  2019    8      630  SegmentoPrecio_1   Marca_1  Cupo_1   \n",
       "\n",
       "           CapacidadEnvase2   Volumen       disc           nr  Marca  \n",
       "850057   CapacidadEnvase_10  0.069550 -33.374006   660.710523    NaN  \n",
       "1389289  CapacidadEnvase_10  0.000000   0.000000     0.000000    5.0  \n",
       "1318828  CapacidadEnvase_10  0.369485   0.000000  2573.567966    NaN  \n",
       "852000   CapacidadEnvase_17  0.028540   0.000000   144.565813    NaN  \n",
       "1123285  CapacidadEnvase_14  0.037383   0.000000   276.907133    NaN  "
      ]
     },
     "execution_count": 5,
     "metadata": {},
     "output_type": "execute_result"
    }
   ],
   "source": [
    "dfv.loc[(dfv[\"Marca2\"] == \"Marca_20\")&(dfv[\"Cupo2\"] == \"Cupo_3\") & (dfv[\"CapacidadEnvase2\"] == \"CapacidadEnvase_9\"), \"Marca\" ] = 1\n",
    "dfv.loc[(dfv[\"Marca2\"] == \"Marca_16\")&(dfv[\"Cupo2\"] == \"Cupo_2\") & (dfv[\"CapacidadEnvase2\"] == \"CapacidadEnvase_10\"), \"Marca\"] = 2\n",
    "dfv.loc[(dfv[\"Marca2\"] == \"Marca_9\") &(dfv[\"Cupo2\"] == \"Cupo_3\") & (dfv[\"CapacidadEnvase2\"] == \"CapacidadEnvase_12\"), \"Marca\"] = 3\n",
    "dfv.loc[(dfv[\"Marca2\"] == \"Marca_38\")&(dfv[\"Cupo2\"] == \"Cupo_2\") & (dfv[\"CapacidadEnvase2\"] == \"CapacidadEnvase_10\"), \"Marca\"] = 4\n",
    "dfv.loc[(dfv[\"Marca2\"] == \"Marca_39\")&(dfv[\"Cupo2\"] == \"Cupo_2\") & (dfv[\"CapacidadEnvase2\"] == \"CapacidadEnvase_10\"), \"Marca\"] = 5\n",
    "\n",
    "dfv.sample(5)"
   ]
  },
  {
   "cell_type": "code",
   "execution_count": 6,
   "metadata": {},
   "outputs": [
    {
     "name": "stdout",
     "output_type": "stream",
     "text": [
      "<class 'pandas.core.frame.DataFrame'>\n",
      "Int64Index: 961315 entries, 0 to 961314\n",
      "Data columns (total 16 columns):\n",
      " #   Column            Non-Null Count   Dtype  \n",
      "---  ------            --------------   -----  \n",
      " 0   Año               961315 non-null  int64  \n",
      " 1   Mes               961315 non-null  int64  \n",
      " 2   Cliente           961315 non-null  int64  \n",
      " 3   SegmentoPrecio2   961315 non-null  object \n",
      " 4   Marca2_x          961315 non-null  object \n",
      " 5   Cupo2             961315 non-null  object \n",
      " 6   CapacidadEnvase2  961315 non-null  object \n",
      " 7   Volumen           961315 non-null  float64\n",
      " 8   disc              961315 non-null  float64\n",
      " 9   nr                961315 non-null  float64\n",
      " 10  Marca             68613 non-null   float64\n",
      " 11  Marca1            0 non-null       float64\n",
      " 12  Marca2_y          0 non-null       float64\n",
      " 13  Marca3            0 non-null       float64\n",
      " 14  Marca_Inno1       0 non-null       float64\n",
      " 15  Marca_Inno2       0 non-null       float64\n",
      "dtypes: float64(9), int64(3), object(4)\n",
      "memory usage: 124.7+ MB\n"
     ]
    }
   ],
   "source": [
    "df = pd.merge(dfv, dfo, on=\"Cliente\")\n",
    "df.info()"
   ]
  },
  {
   "cell_type": "code",
   "execution_count": 7,
   "metadata": {},
   "outputs": [
    {
     "data": {
      "text/html": [
       "<div>\n",
       "<style scoped>\n",
       "    .dataframe tbody tr th:only-of-type {\n",
       "        vertical-align: middle;\n",
       "    }\n",
       "\n",
       "    .dataframe tbody tr th {\n",
       "        vertical-align: top;\n",
       "    }\n",
       "\n",
       "    .dataframe thead th {\n",
       "        text-align: right;\n",
       "    }\n",
       "</style>\n",
       "<table border=\"1\" class=\"dataframe\">\n",
       "  <thead>\n",
       "    <tr style=\"text-align: right;\">\n",
       "      <th></th>\n",
       "      <th>Año</th>\n",
       "      <th>Mes</th>\n",
       "      <th>Cliente</th>\n",
       "      <th>SegmentoPrecio2</th>\n",
       "      <th>Marca2_x</th>\n",
       "      <th>Cupo2</th>\n",
       "      <th>CapacidadEnvase2</th>\n",
       "      <th>Volumen</th>\n",
       "      <th>disc</th>\n",
       "      <th>nr</th>\n",
       "      <th>Marca</th>\n",
       "      <th>Marca1</th>\n",
       "      <th>Marca2_y</th>\n",
       "      <th>Marca3</th>\n",
       "      <th>Marca_Inno1</th>\n",
       "      <th>Marca_Inno2</th>\n",
       "    </tr>\n",
       "  </thead>\n",
       "  <tbody>\n",
       "    <tr>\n",
       "      <th>739035</th>\n",
       "      <td>2020</td>\n",
       "      <td>8</td>\n",
       "      <td>10199</td>\n",
       "      <td>SegmentoPrecio_1</td>\n",
       "      <td>Marca_1</td>\n",
       "      <td>Cupo_2</td>\n",
       "      <td>CapacidadEnvase_10</td>\n",
       "      <td>0.086938</td>\n",
       "      <td>-6.160170</td>\n",
       "      <td>712.785777</td>\n",
       "      <td>NaN</td>\n",
       "      <td>0.0</td>\n",
       "      <td>0.0</td>\n",
       "      <td>0.0</td>\n",
       "      <td>0.0</td>\n",
       "      <td>0.0</td>\n",
       "    </tr>\n",
       "    <tr>\n",
       "      <th>523499</th>\n",
       "      <td>2020</td>\n",
       "      <td>1</td>\n",
       "      <td>4282</td>\n",
       "      <td>SegmentoPrecio_1</td>\n",
       "      <td>Marca_1</td>\n",
       "      <td>Cupo_2</td>\n",
       "      <td>CapacidadEnvase_10</td>\n",
       "      <td>0.665073</td>\n",
       "      <td>-233.055709</td>\n",
       "      <td>5201.287047</td>\n",
       "      <td>NaN</td>\n",
       "      <td>0.0</td>\n",
       "      <td>0.0</td>\n",
       "      <td>0.0</td>\n",
       "      <td>0.0</td>\n",
       "      <td>0.0</td>\n",
       "    </tr>\n",
       "    <tr>\n",
       "      <th>324859</th>\n",
       "      <td>2020</td>\n",
       "      <td>8</td>\n",
       "      <td>14545</td>\n",
       "      <td>SegmentoPrecio_1</td>\n",
       "      <td>Marca_5</td>\n",
       "      <td>Cupo_2</td>\n",
       "      <td>CapacidadEnvase_17</td>\n",
       "      <td>0.085620</td>\n",
       "      <td>0.000000</td>\n",
       "      <td>434.561617</td>\n",
       "      <td>NaN</td>\n",
       "      <td>0.0</td>\n",
       "      <td>0.0</td>\n",
       "      <td>0.0</td>\n",
       "      <td>0.0</td>\n",
       "      <td>0.0</td>\n",
       "    </tr>\n",
       "    <tr>\n",
       "      <th>700475</th>\n",
       "      <td>2019</td>\n",
       "      <td>7</td>\n",
       "      <td>9084</td>\n",
       "      <td>SegmentoPrecio_1</td>\n",
       "      <td>Marca_1</td>\n",
       "      <td>Cupo_2</td>\n",
       "      <td>CapacidadEnvase_10</td>\n",
       "      <td>0.152141</td>\n",
       "      <td>-1113.482167</td>\n",
       "      <td>119.035557</td>\n",
       "      <td>NaN</td>\n",
       "      <td>0.0</td>\n",
       "      <td>0.0</td>\n",
       "      <td>0.0</td>\n",
       "      <td>0.0</td>\n",
       "      <td>0.0</td>\n",
       "    </tr>\n",
       "    <tr>\n",
       "      <th>476689</th>\n",
       "      <td>2020</td>\n",
       "      <td>1</td>\n",
       "      <td>3649</td>\n",
       "      <td>SegmentoPrecio_1</td>\n",
       "      <td>Marca_5</td>\n",
       "      <td>Cupo_2</td>\n",
       "      <td>CapacidadEnvase_16</td>\n",
       "      <td>0.026345</td>\n",
       "      <td>-3.746246</td>\n",
       "      <td>165.171268</td>\n",
       "      <td>NaN</td>\n",
       "      <td>0.0</td>\n",
       "      <td>0.0</td>\n",
       "      <td>0.0</td>\n",
       "      <td>0.0</td>\n",
       "      <td>0.0</td>\n",
       "    </tr>\n",
       "  </tbody>\n",
       "</table>\n",
       "</div>"
      ],
      "text/plain": [
       "         Año  Mes  Cliente   SegmentoPrecio2 Marca2_x   Cupo2  \\\n",
       "739035  2020    8    10199  SegmentoPrecio_1  Marca_1  Cupo_2   \n",
       "523499  2020    1     4282  SegmentoPrecio_1  Marca_1  Cupo_2   \n",
       "324859  2020    8    14545  SegmentoPrecio_1  Marca_5  Cupo_2   \n",
       "700475  2019    7     9084  SegmentoPrecio_1  Marca_1  Cupo_2   \n",
       "476689  2020    1     3649  SegmentoPrecio_1  Marca_5  Cupo_2   \n",
       "\n",
       "          CapacidadEnvase2   Volumen         disc           nr  Marca  Marca1  \\\n",
       "739035  CapacidadEnvase_10  0.086938    -6.160170   712.785777    NaN     0.0   \n",
       "523499  CapacidadEnvase_10  0.665073  -233.055709  5201.287047    NaN     0.0   \n",
       "324859  CapacidadEnvase_17  0.085620     0.000000   434.561617    NaN     0.0   \n",
       "700475  CapacidadEnvase_10  0.152141 -1113.482167   119.035557    NaN     0.0   \n",
       "476689  CapacidadEnvase_16  0.026345    -3.746246   165.171268    NaN     0.0   \n",
       "\n",
       "        Marca2_y  Marca3  Marca_Inno1  Marca_Inno2  \n",
       "739035       0.0     0.0          0.0          0.0  \n",
       "523499       0.0     0.0          0.0          0.0  \n",
       "324859       0.0     0.0          0.0          0.0  \n",
       "700475       0.0     0.0          0.0          0.0  \n",
       "476689       0.0     0.0          0.0          0.0  "
      ]
     },
     "execution_count": 7,
     "metadata": {},
     "output_type": "execute_result"
    }
   ],
   "source": [
    "df[\"Marca1\"]      = df.Marca.apply(lambda x: 1.0 if x==1 else 0.0)\n",
    "df[\"Marca2_y\"]    = df.Marca.apply(lambda x: 1.0 if x==2 else 0.0)\n",
    "df[\"Marca3\"] =      df.Marca.apply(lambda x: 1.0 if x==3 else 0.0)\n",
    "df[\"Marca_Inno1\"] = df.Marca.apply(lambda x: 1.0 if x==4 else 0.0)\n",
    "df[\"Marca_Inno2\"] = df.Marca.apply(lambda x: 1.0 if x==5 else 0.0)\n",
    "\n",
    "df.sample(5)"
   ]
  },
  {
   "cell_type": "code",
   "execution_count": 8,
   "metadata": {},
   "outputs": [
    {
     "name": "stdout",
     "output_type": "stream",
     "text": [
      "9302\n"
     ]
    },
    {
     "data": {
      "text/html": [
       "<div>\n",
       "<style scoped>\n",
       "    .dataframe tbody tr th:only-of-type {\n",
       "        vertical-align: middle;\n",
       "    }\n",
       "\n",
       "    .dataframe tbody tr th {\n",
       "        vertical-align: top;\n",
       "    }\n",
       "\n",
       "    .dataframe thead th {\n",
       "        text-align: right;\n",
       "    }\n",
       "</style>\n",
       "<table border=\"1\" class=\"dataframe\">\n",
       "  <thead>\n",
       "    <tr style=\"text-align: right;\">\n",
       "      <th></th>\n",
       "      <th>Cliente</th>\n",
       "      <th>Gerencia2</th>\n",
       "      <th>SubCanal2</th>\n",
       "      <th>Categoria</th>\n",
       "      <th>Nevera</th>\n",
       "      <th>Año</th>\n",
       "      <th>Mes</th>\n",
       "      <th>SegmentoPrecio2</th>\n",
       "      <th>Marca2_x</th>\n",
       "      <th>Cupo2</th>\n",
       "      <th>CapacidadEnvase2</th>\n",
       "      <th>Volumen</th>\n",
       "      <th>disc</th>\n",
       "      <th>nr</th>\n",
       "      <th>Marca</th>\n",
       "      <th>Marca1</th>\n",
       "      <th>Marca2_y</th>\n",
       "      <th>Marca3</th>\n",
       "      <th>Marca_Inno1</th>\n",
       "      <th>Marca_Inno2</th>\n",
       "    </tr>\n",
       "  </thead>\n",
       "  <tbody>\n",
       "    <tr>\n",
       "      <th>508220</th>\n",
       "      <td>8484</td>\n",
       "      <td>Gerencia_10</td>\n",
       "      <td>Subcanal_1</td>\n",
       "      <td>Categoria_1</td>\n",
       "      <td>1</td>\n",
       "      <td>2020</td>\n",
       "      <td>7</td>\n",
       "      <td>SegmentoPrecio_2</td>\n",
       "      <td>Marca_12</td>\n",
       "      <td>Cupo_1</td>\n",
       "      <td>CapacidadEnvase_10</td>\n",
       "      <td>0.008694</td>\n",
       "      <td>0.000000</td>\n",
       "      <td>93.327242</td>\n",
       "      <td>NaN</td>\n",
       "      <td>0.0</td>\n",
       "      <td>0.0</td>\n",
       "      <td>0.0</td>\n",
       "      <td>0.0</td>\n",
       "      <td>0.0</td>\n",
       "    </tr>\n",
       "    <tr>\n",
       "      <th>712380</th>\n",
       "      <td>12122</td>\n",
       "      <td>Gerencia_10</td>\n",
       "      <td>Subcanal_3</td>\n",
       "      <td>Categoria_2</td>\n",
       "      <td>0</td>\n",
       "      <td>2019</td>\n",
       "      <td>6</td>\n",
       "      <td>SegmentoPrecio_1</td>\n",
       "      <td>Marca_1</td>\n",
       "      <td>Cupo_2</td>\n",
       "      <td>CapacidadEnvase_10</td>\n",
       "      <td>0.282547</td>\n",
       "      <td>-241.272968</td>\n",
       "      <td>2032.710247</td>\n",
       "      <td>NaN</td>\n",
       "      <td>0.0</td>\n",
       "      <td>0.0</td>\n",
       "      <td>0.0</td>\n",
       "      <td>0.0</td>\n",
       "      <td>0.0</td>\n",
       "    </tr>\n",
       "    <tr>\n",
       "      <th>21713</th>\n",
       "      <td>549</td>\n",
       "      <td>Gerencia_4</td>\n",
       "      <td>Subcanal_1</td>\n",
       "      <td>Categoria_3</td>\n",
       "      <td>0</td>\n",
       "      <td>2020</td>\n",
       "      <td>5</td>\n",
       "      <td>SegmentoPrecio_1</td>\n",
       "      <td>Marca_1</td>\n",
       "      <td>Cupo_2</td>\n",
       "      <td>CapacidadEnvase_10</td>\n",
       "      <td>0.065203</td>\n",
       "      <td>0.000000</td>\n",
       "      <td>528.107498</td>\n",
       "      <td>NaN</td>\n",
       "      <td>0.0</td>\n",
       "      <td>0.0</td>\n",
       "      <td>0.0</td>\n",
       "      <td>0.0</td>\n",
       "      <td>0.0</td>\n",
       "    </tr>\n",
       "    <tr>\n",
       "      <th>8282</th>\n",
       "      <td>246</td>\n",
       "      <td>Gerencia_6</td>\n",
       "      <td>Subcanal_3</td>\n",
       "      <td>Categoria_2</td>\n",
       "      <td>1</td>\n",
       "      <td>2019</td>\n",
       "      <td>7</td>\n",
       "      <td>SegmentoPrecio_2</td>\n",
       "      <td>Marca_6</td>\n",
       "      <td>Cupo_1</td>\n",
       "      <td>CapacidadEnvase_10</td>\n",
       "      <td>0.017388</td>\n",
       "      <td>0.000000</td>\n",
       "      <td>173.878589</td>\n",
       "      <td>NaN</td>\n",
       "      <td>0.0</td>\n",
       "      <td>0.0</td>\n",
       "      <td>0.0</td>\n",
       "      <td>0.0</td>\n",
       "      <td>0.0</td>\n",
       "    </tr>\n",
       "    <tr>\n",
       "      <th>719395</th>\n",
       "      <td>12263</td>\n",
       "      <td>Gerencia_8</td>\n",
       "      <td>Subcanal_3</td>\n",
       "      <td>Categoria_2</td>\n",
       "      <td>0</td>\n",
       "      <td>2020</td>\n",
       "      <td>5</td>\n",
       "      <td>SegmentoPrecio_1</td>\n",
       "      <td>Marca_5</td>\n",
       "      <td>Cupo_2</td>\n",
       "      <td>CapacidadEnvase_10</td>\n",
       "      <td>0.065203</td>\n",
       "      <td>-114.147471</td>\n",
       "      <td>505.994424</td>\n",
       "      <td>NaN</td>\n",
       "      <td>0.0</td>\n",
       "      <td>0.0</td>\n",
       "      <td>0.0</td>\n",
       "      <td>0.0</td>\n",
       "      <td>0.0</td>\n",
       "    </tr>\n",
       "  </tbody>\n",
       "</table>\n",
       "</div>"
      ],
      "text/plain": [
       "        Cliente    Gerencia2   SubCanal2    Categoria  Nevera   Año  Mes  \\\n",
       "508220     8484  Gerencia_10  Subcanal_1  Categoria_1       1  2020    7   \n",
       "712380    12122  Gerencia_10  Subcanal_3  Categoria_2       0  2019    6   \n",
       "21713       549   Gerencia_4  Subcanal_1  Categoria_3       0  2020    5   \n",
       "8282        246   Gerencia_6  Subcanal_3  Categoria_2       1  2019    7   \n",
       "719395    12263   Gerencia_8  Subcanal_3  Categoria_2       0  2020    5   \n",
       "\n",
       "         SegmentoPrecio2  Marca2_x   Cupo2    CapacidadEnvase2   Volumen  \\\n",
       "508220  SegmentoPrecio_2  Marca_12  Cupo_1  CapacidadEnvase_10  0.008694   \n",
       "712380  SegmentoPrecio_1   Marca_1  Cupo_2  CapacidadEnvase_10  0.282547   \n",
       "21713   SegmentoPrecio_1   Marca_1  Cupo_2  CapacidadEnvase_10  0.065203   \n",
       "8282    SegmentoPrecio_2   Marca_6  Cupo_1  CapacidadEnvase_10  0.017388   \n",
       "719395  SegmentoPrecio_1   Marca_5  Cupo_2  CapacidadEnvase_10  0.065203   \n",
       "\n",
       "              disc           nr  Marca  Marca1  Marca2_y  Marca3  Marca_Inno1  \\\n",
       "508220    0.000000    93.327242    NaN     0.0       0.0     0.0          0.0   \n",
       "712380 -241.272968  2032.710247    NaN     0.0       0.0     0.0          0.0   \n",
       "21713     0.000000   528.107498    NaN     0.0       0.0     0.0          0.0   \n",
       "8282      0.000000   173.878589    NaN     0.0       0.0     0.0          0.0   \n",
       "719395 -114.147471   505.994424    NaN     0.0       0.0     0.0          0.0   \n",
       "\n",
       "        Marca_Inno2  \n",
       "508220          0.0  \n",
       "712380          0.0  \n",
       "21713           0.0  \n",
       "8282            0.0  \n",
       "719395          0.0  "
      ]
     },
     "execution_count": 8,
     "metadata": {},
     "output_type": "execute_result"
    }
   ],
   "source": [
    "df1 = pd.merge(dfc, df, on=\"Cliente\")\n",
    "print(df1.Cliente.nunique())\n",
    "df1.sample(5)"
   ]
  },
  {
   "cell_type": "code",
   "execution_count": 9,
   "metadata": {},
   "outputs": [],
   "source": [
    "mes2 = lambda row: row.Mes+12 if row.Año == 2020 else row.Mes\n",
    "df1[\"Mes2\"] = df1.apply(mes2,axis=1)"
   ]
  },
  {
   "cell_type": "code",
   "execution_count": 11,
   "metadata": {},
   "outputs": [
    {
     "data": {
      "text/plain": [
       "Cliente\n",
       "1     0.895458\n",
       "2     3.707907\n",
       "3     0.682460\n",
       "4     6.368080\n",
       "5    11.838257\n",
       "Name: Volumen, dtype: float64"
      ]
     },
     "execution_count": 11,
     "metadata": {},
     "output_type": "execute_result"
    }
   ],
   "source": [
    "CV = df1.groupby('Cliente').Volumen.sum()\n",
    "CV.head()"
   ]
  },
  {
   "cell_type": "code",
   "execution_count": 10,
   "metadata": {},
   "outputs": [
    {
     "data": {
      "text/html": [
       "<div>\n",
       "<style scoped>\n",
       "    .dataframe tbody tr th:only-of-type {\n",
       "        vertical-align: middle;\n",
       "    }\n",
       "\n",
       "    .dataframe tbody tr th {\n",
       "        vertical-align: top;\n",
       "    }\n",
       "\n",
       "    .dataframe thead th {\n",
       "        text-align: right;\n",
       "    }\n",
       "</style>\n",
       "<table border=\"1\" class=\"dataframe\">\n",
       "  <thead>\n",
       "    <tr style=\"text-align: right;\">\n",
       "      <th></th>\n",
       "      <th>Cliente</th>\n",
       "      <th>Gerencia2</th>\n",
       "      <th>SubCanal2</th>\n",
       "      <th>Categoria</th>\n",
       "      <th>Nevera</th>\n",
       "      <th>Año</th>\n",
       "      <th>Mes</th>\n",
       "      <th>SegmentoPrecio2</th>\n",
       "      <th>Marca2_x</th>\n",
       "      <th>Cupo2</th>\n",
       "      <th>...</th>\n",
       "      <th>Volumen</th>\n",
       "      <th>disc</th>\n",
       "      <th>nr</th>\n",
       "      <th>Marca</th>\n",
       "      <th>Marca1</th>\n",
       "      <th>Marca2_y</th>\n",
       "      <th>Marca3</th>\n",
       "      <th>Marca_Inno1</th>\n",
       "      <th>Marca_Inno2</th>\n",
       "      <th>Mes2</th>\n",
       "    </tr>\n",
       "  </thead>\n",
       "  <tbody>\n",
       "    <tr>\n",
       "      <th>841431</th>\n",
       "      <td>14464</td>\n",
       "      <td>Gerencia_10</td>\n",
       "      <td>Subcanal_1</td>\n",
       "      <td>Categoria_1</td>\n",
       "      <td>1</td>\n",
       "      <td>2019</td>\n",
       "      <td>9</td>\n",
       "      <td>SegmentoPrecio_1</td>\n",
       "      <td>Marca_2</td>\n",
       "      <td>Cupo_4</td>\n",
       "      <td>...</td>\n",
       "      <td>0.021076</td>\n",
       "      <td>0.000000</td>\n",
       "      <td>146.828511</td>\n",
       "      <td>0.0</td>\n",
       "      <td>0.0</td>\n",
       "      <td>0.0</td>\n",
       "      <td>0.0</td>\n",
       "      <td>0.0</td>\n",
       "      <td>0.0</td>\n",
       "      <td>9</td>\n",
       "    </tr>\n",
       "    <tr>\n",
       "      <th>616236</th>\n",
       "      <td>10428</td>\n",
       "      <td>Gerencia_9</td>\n",
       "      <td>Subcanal_8</td>\n",
       "      <td>Categoria_2</td>\n",
       "      <td>0</td>\n",
       "      <td>2020</td>\n",
       "      <td>9</td>\n",
       "      <td>SegmentoPrecio_3</td>\n",
       "      <td>Marca_9</td>\n",
       "      <td>Cupo_3</td>\n",
       "      <td>...</td>\n",
       "      <td>0.011065</td>\n",
       "      <td>0.000000</td>\n",
       "      <td>204.130687</td>\n",
       "      <td>0.0</td>\n",
       "      <td>0.0</td>\n",
       "      <td>0.0</td>\n",
       "      <td>0.0</td>\n",
       "      <td>0.0</td>\n",
       "      <td>0.0</td>\n",
       "      <td>21</td>\n",
       "    </tr>\n",
       "    <tr>\n",
       "      <th>775009</th>\n",
       "      <td>13268</td>\n",
       "      <td>Gerencia_10</td>\n",
       "      <td>Subcanal_1</td>\n",
       "      <td>Categoria_3</td>\n",
       "      <td>1</td>\n",
       "      <td>2020</td>\n",
       "      <td>1</td>\n",
       "      <td>SegmentoPrecio_2</td>\n",
       "      <td>Marca_12</td>\n",
       "      <td>Cupo_2</td>\n",
       "      <td>...</td>\n",
       "      <td>0.065203</td>\n",
       "      <td>-67.552231</td>\n",
       "      <td>581.581383</td>\n",
       "      <td>0.0</td>\n",
       "      <td>0.0</td>\n",
       "      <td>0.0</td>\n",
       "      <td>0.0</td>\n",
       "      <td>0.0</td>\n",
       "      <td>0.0</td>\n",
       "      <td>13</td>\n",
       "    </tr>\n",
       "  </tbody>\n",
       "</table>\n",
       "<p>3 rows × 21 columns</p>\n",
       "</div>"
      ],
      "text/plain": [
       "        Cliente    Gerencia2   SubCanal2    Categoria  Nevera   Año  Mes  \\\n",
       "841431    14464  Gerencia_10  Subcanal_1  Categoria_1       1  2019    9   \n",
       "616236    10428   Gerencia_9  Subcanal_8  Categoria_2       0  2020    9   \n",
       "775009    13268  Gerencia_10  Subcanal_1  Categoria_3       1  2020    1   \n",
       "\n",
       "         SegmentoPrecio2  Marca2_x   Cupo2  ...   Volumen       disc  \\\n",
       "841431  SegmentoPrecio_1   Marca_2  Cupo_4  ...  0.021076   0.000000   \n",
       "616236  SegmentoPrecio_3   Marca_9  Cupo_3  ...  0.011065   0.000000   \n",
       "775009  SegmentoPrecio_2  Marca_12  Cupo_2  ...  0.065203 -67.552231   \n",
       "\n",
       "                nr  Marca  Marca1  Marca2_y  Marca3  Marca_Inno1  Marca_Inno2  \\\n",
       "841431  146.828511    0.0     0.0       0.0     0.0          0.0          0.0   \n",
       "616236  204.130687    0.0     0.0       0.0     0.0          0.0          0.0   \n",
       "775009  581.581383    0.0     0.0       0.0     0.0          0.0          0.0   \n",
       "\n",
       "        Mes2  \n",
       "841431     9  \n",
       "616236    21  \n",
       "775009    13  \n",
       "\n",
       "[3 rows x 21 columns]"
      ]
     },
     "execution_count": 10,
     "metadata": {},
     "output_type": "execute_result"
    }
   ],
   "source": [
    "df1.Marca.fillna(0,inplace = True)\n",
    "df1.sample(3)"
   ]
  },
  {
   "cell_type": "code",
   "execution_count": 11,
   "metadata": {},
   "outputs": [],
   "source": [
    "df1.drop(['Año','Mes'],axis=1,inplace=True)"
   ]
  },
  {
   "cell_type": "code",
   "execution_count": 66,
   "metadata": {},
   "outputs": [
    {
     "data": {
      "image/png": "[encoded data removed]",
      "text/plain": [
       "<Figure size 1080x720 with 1 Axes>"
      ]
     },
     "metadata": {
      "needs_background": "light"
     },
     "output_type": "display_data"
    }
   ],
   "source": [
    "#1. Scatter plot Useful for: # Visualize the relationship between data.\n",
    "\n",
    "fig = plt.figure(figsize = (15, 10))\n",
    "ax = fig.add_subplot(1,1,1)\n",
    "# iterate over each category and plot the data. This way, every group has it's own color. Otherwise everything would be blue\n",
    "for cat in sorted(list(df1[\"Cliente\"].unique())):\n",
    "    # filter x and the y for each category\n",
    "    mes = df1[df1[\"Cliente\"] == cat][\"Mes2\"]\n",
    "    vol = df1[df1[\"Cliente\"] == cat][\"Volumen\"]\n",
    "    # plot the data\n",
    "    ax.scatter(mes, vol, label=cat, s=10)\n",
    "# prettify the plot\n",
    "# eliminate 2/4 spines (lines that make the box/axes) to make it more pleasant\n",
    "ax.spines[\"top\"].set_color(\"None\")\n",
    "ax.spines[\"right\"].set_color(\"None\")\n",
    "# set a specific label for each axis\n",
    "ax.set_xlabel(\"Cliente\",fontsize = 18)\n",
    "ax.set_ylabel(\"Volumen\",fontsize = 18)\n",
    "# change the lower limit of the plot, this will allow us to see the legend on the left\n",
    "ax.set_xlim(4)\n",
    "ax.set_title(\"Scatter plot of Volume vs Months\",fontsize = 18)\n",
    "ax.set_xticks([5,8,11,14,17,20,21])\n",
    "#ax.set_xtickslabels(['Marzo','Agosto','Noviembre','Febrero','Mayo','Agosto','Septiembre'],rotation=30)\n",
    "#ax.legend(loc = \"upper left\", fontsize = 12)\n",
    "plt.show()"
   ]
  },
  {
   "cell_type": "code",
   "execution_count": 14,
   "metadata": {},
   "outputs": [
    {
     "data": {
      "image/png": "[encoded data removed]",
      "text/plain": [
       "<Figure size 1080x720 with 1 Axes>"
      ]
     },
     "metadata": {
      "needs_background": "light"
     },
     "output_type": "display_data"
    }
   ],
   "source": [
    "fig = plt.figure(figsize = (15, 10))\n",
    "ax = fig.add_subplot(1,1,1)\n",
    "ax.scatter(df1.nr,df1.Volumen , s=10)\n",
    "ax.set_xlabel(\"nr\",fontsize = 18)\n",
    "ax.set_ylabel(\"Volume\",fontsize = 18)\n",
    "ax.set_title(\"Scatter plot of Volume vs nr\",fontsize = 18)\n",
    "plt.show()"
   ]
  },
  {
   "cell_type": "code",
   "execution_count": null,
   "metadata": {},
   "outputs": [],
   "source": [
    "import seaborn as sns\n",
    "\n",
    "CV = df1.Volumen\n",
    "data = pd.concat((CV,df1.nr),axis=1)\n",
    "\n",
    "g = sns.lmplot(x=\"nr\", y=\"Volumen\", data=data)"
   ]
  },
  {
   "cell_type": "code",
   "execution_count": null,
   "metadata": {},
   "outputs": [],
   "source": [
    "from sklearn.linear_model import LinearRegression\n",
    "X = df1[['nr']]\n",
    "\n",
    "y = df1.Volumen\n",
    "\n",
    "# Can we do linear regression on this?\n",
    "line_fitter = LinearRegression()\n",
    "\n",
    "line_fitter.fit(X, y)\n",
    "\n",
    "predict = line_fitter.predict(X)\n",
    "\n",
    "predict"
   ]
  },
  {
   "cell_type": "code",
   "execution_count": 12,
   "metadata": {},
   "outputs": [
    {
     "name": "stdout",
     "output_type": "stream",
     "text": [
      "(961315, 19)\n"
     ]
    },
    {
     "data": {
      "text/plain": [
       "(68613, 19)"
      ]
     },
     "execution_count": 12,
     "metadata": {},
     "output_type": "execute_result"
    }
   ],
   "source": [
    "print(df1.shape)\n",
    "df2 = df1[(df1.Marca >=1) & (df1.Marca <=5)] \n",
    "df2.shape"
   ]
  },
  {
   "cell_type": "code",
   "execution_count": 13,
   "metadata": {},
   "outputs": [],
   "source": [
    "df1 = df2.copy()"
   ]
  },
  {
   "cell_type": "code",
   "execution_count": 14,
   "metadata": {},
   "outputs": [
    {
     "name": "stdout",
     "output_type": "stream",
     "text": [
      "There are 7 categorical variables\n",
      "\n",
      "The categorical variables are :\n",
      "\n",
      " ['Gerencia2', 'SubCanal2', 'Categoria', 'SegmentoPrecio2', 'Marca2_x', 'Cupo2', 'CapacidadEnvase2']\n"
     ]
    }
   ],
   "source": [
    "# find categorical variables\n",
    "\n",
    "categorical = [var for var in df1.columns if df1[var].dtype=='O']\n",
    "\n",
    "print('There are {} categorical variables\\n'.format(len(categorical)))\n",
    "\n",
    "print('The categorical variables are :\\n\\n', categorical)"
   ]
  },
  {
   "cell_type": "code",
   "execution_count": 15,
   "metadata": {},
   "outputs": [
    {
     "data": {
      "text/html": [
       "<div>\n",
       "<style scoped>\n",
       "    .dataframe tbody tr th:only-of-type {\n",
       "        vertical-align: middle;\n",
       "    }\n",
       "\n",
       "    .dataframe tbody tr th {\n",
       "        vertical-align: top;\n",
       "    }\n",
       "\n",
       "    .dataframe thead th {\n",
       "        text-align: right;\n",
       "    }\n",
       "</style>\n",
       "<table border=\"1\" class=\"dataframe\">\n",
       "  <thead>\n",
       "    <tr style=\"text-align: right;\">\n",
       "      <th></th>\n",
       "      <th>Gerencia2</th>\n",
       "      <th>SubCanal2</th>\n",
       "      <th>Categoria</th>\n",
       "      <th>SegmentoPrecio2</th>\n",
       "      <th>Marca2_x</th>\n",
       "      <th>Cupo2</th>\n",
       "      <th>CapacidadEnvase2</th>\n",
       "    </tr>\n",
       "  </thead>\n",
       "  <tbody>\n",
       "    <tr>\n",
       "      <th>8</th>\n",
       "      <td>Gerencia_1</td>\n",
       "      <td>Subcanal_1</td>\n",
       "      <td>Categoria_1</td>\n",
       "      <td>SegmentoPrecio_1</td>\n",
       "      <td>Marca_38</td>\n",
       "      <td>Cupo_2</td>\n",
       "      <td>CapacidadEnvase_10</td>\n",
       "    </tr>\n",
       "    <tr>\n",
       "      <th>9</th>\n",
       "      <td>Gerencia_1</td>\n",
       "      <td>Subcanal_1</td>\n",
       "      <td>Categoria_1</td>\n",
       "      <td>SegmentoPrecio_3</td>\n",
       "      <td>Marca_39</td>\n",
       "      <td>Cupo_2</td>\n",
       "      <td>CapacidadEnvase_10</td>\n",
       "    </tr>\n",
       "    <tr>\n",
       "      <th>10</th>\n",
       "      <td>Gerencia_1</td>\n",
       "      <td>Subcanal_1</td>\n",
       "      <td>Categoria_1</td>\n",
       "      <td>SegmentoPrecio_1</td>\n",
       "      <td>Marca_38</td>\n",
       "      <td>Cupo_2</td>\n",
       "      <td>CapacidadEnvase_10</td>\n",
       "    </tr>\n",
       "    <tr>\n",
       "      <th>11</th>\n",
       "      <td>Gerencia_1</td>\n",
       "      <td>Subcanal_1</td>\n",
       "      <td>Categoria_1</td>\n",
       "      <td>SegmentoPrecio_3</td>\n",
       "      <td>Marca_39</td>\n",
       "      <td>Cupo_2</td>\n",
       "      <td>CapacidadEnvase_10</td>\n",
       "    </tr>\n",
       "    <tr>\n",
       "      <th>20</th>\n",
       "      <td>Gerencia_1</td>\n",
       "      <td>Subcanal_1</td>\n",
       "      <td>Categoria_1</td>\n",
       "      <td>SegmentoPrecio_1</td>\n",
       "      <td>Marca_20</td>\n",
       "      <td>Cupo_3</td>\n",
       "      <td>CapacidadEnvase_9</td>\n",
       "    </tr>\n",
       "  </tbody>\n",
       "</table>\n",
       "</div>"
      ],
      "text/plain": [
       "     Gerencia2   SubCanal2    Categoria   SegmentoPrecio2  Marca2_x   Cupo2  \\\n",
       "8   Gerencia_1  Subcanal_1  Categoria_1  SegmentoPrecio_1  Marca_38  Cupo_2   \n",
       "9   Gerencia_1  Subcanal_1  Categoria_1  SegmentoPrecio_3  Marca_39  Cupo_2   \n",
       "10  Gerencia_1  Subcanal_1  Categoria_1  SegmentoPrecio_1  Marca_38  Cupo_2   \n",
       "11  Gerencia_1  Subcanal_1  Categoria_1  SegmentoPrecio_3  Marca_39  Cupo_2   \n",
       "20  Gerencia_1  Subcanal_1  Categoria_1  SegmentoPrecio_1  Marca_20  Cupo_3   \n",
       "\n",
       "      CapacidadEnvase2  \n",
       "8   CapacidadEnvase_10  \n",
       "9   CapacidadEnvase_10  \n",
       "10  CapacidadEnvase_10  \n",
       "11  CapacidadEnvase_10  \n",
       "20   CapacidadEnvase_9  "
      ]
     },
     "execution_count": 15,
     "metadata": {},
     "output_type": "execute_result"
    }
   ],
   "source": [
    "df1[categorical].head()"
   ]
  },
  {
   "cell_type": "code",
   "execution_count": 16,
   "metadata": {},
   "outputs": [
    {
     "name": "stdout",
     "output_type": "stream",
     "text": [
      "There are 12 numerical variables\n",
      "\n",
      "The numerical variables are : ['Cliente', 'Nevera', 'Volumen', 'disc', 'nr', 'Marca', 'Marca1', 'Marca2_y', 'Marca3', 'Marca_Inno1', 'Marca_Inno2', 'Mes2']\n"
     ]
    }
   ],
   "source": [
    "# find numerical variables\n",
    "\n",
    "numerical = [var for var in df1.columns if df1[var].dtype!='O']\n",
    "\n",
    "print('There are {} numerical variables\\n'.format(len(numerical)))\n",
    "\n",
    "print('The numerical variables are :', numerical)"
   ]
  },
  {
   "cell_type": "code",
   "execution_count": 27,
   "metadata": {},
   "outputs": [],
   "source": [
    "X = (df1[['Cliente', 'Nevera', 'Volumen', 'disc', 'nr','Marca2_y', 'Marca3', 'Marca_Inno1', 'Marca_Inno2',\n",
    "          'Mes2','Gerencia2', 'SubCanal2', 'Categoria', 'SegmentoPrecio2', 'Marca2_x', 'Cupo2', 'CapacidadEnvase2']])\n",
    "y = df1['Marca1']"
   ]
  },
  {
   "cell_type": "code",
   "execution_count": 28,
   "metadata": {},
   "outputs": [],
   "source": []
  },
  {
   "cell_type": "code",
   "execution_count": null,
   "metadata": {},
   "outputs": [],
   "source": []
  },
  {
   "cell_type": "code",
   "execution_count": null,
   "metadata": {},
   "outputs": [],
   "source": []
  },
  {
   "cell_type": "code",
   "execution_count": null,
   "metadata": {},
   "outputs": [],
   "source": []
  },
  {
   "cell_type": "code",
   "execution_count": 30,
   "metadata": {},
   "outputs": [],
   "source": [
    "from sklearn.model_selection import train_test_split\n",
    "X_train, X_test, y_train, y_test = train_test_split(X, y, test_size = 0.3, random_state = 0)"
   ]
  },
  {
   "cell_type": "code",
   "execution_count": 31,
   "metadata": {},
   "outputs": [
    {
     "data": {
      "text/plain": [
       "((48029, 17), (20584, 17))"
      ]
     },
     "execution_count": 31,
     "metadata": {},
     "output_type": "execute_result"
    }
   ],
   "source": [
    "X_train.shape, X_test.shape"
   ]
  },
  {
   "cell_type": "code",
   "execution_count": 32,
   "metadata": {},
   "outputs": [
    {
     "data": {
      "text/plain": [
       "Cliente               int64\n",
       "Nevera                int64\n",
       "Volumen             float64\n",
       "disc                float64\n",
       "nr                  float64\n",
       "Marca2_y            float64\n",
       "Marca3              float64\n",
       "Marca_Inno1         float64\n",
       "Marca_Inno2         float64\n",
       "Mes2                  int64\n",
       "Gerencia2            object\n",
       "SubCanal2            object\n",
       "Categoria            object\n",
       "SegmentoPrecio2      object\n",
       "Marca2_x             object\n",
       "Cupo2                object\n",
       "CapacidadEnvase2     object\n",
       "dtype: object"
      ]
     },
     "execution_count": 32,
     "metadata": {},
     "output_type": "execute_result"
    }
   ],
   "source": [
    "X_train.dtypes"
   ]
  },
  {
   "cell_type": "code",
   "execution_count": 33,
   "metadata": {},
   "outputs": [
    {
     "data": {
      "text/plain": [
       "['Gerencia2',\n",
       " 'SubCanal2',\n",
       " 'Categoria',\n",
       " 'SegmentoPrecio2',\n",
       " 'Marca2_x',\n",
       " 'Cupo2',\n",
       " 'CapacidadEnvase2']"
      ]
     },
     "execution_count": 33,
     "metadata": {},
     "output_type": "execute_result"
    }
   ],
   "source": [
    "# display categorical variables\n",
    "\n",
    "categorical = [col for col in X_train.columns if X_train[col].dtypes == 'O']\n",
    "\n",
    "categorical"
   ]
  },
  {
   "cell_type": "code",
   "execution_count": 34,
   "metadata": {},
   "outputs": [
    {
     "data": {
      "text/plain": [
       "['Cliente',\n",
       " 'Nevera',\n",
       " 'Volumen',\n",
       " 'disc',\n",
       " 'nr',\n",
       " 'Marca2_y',\n",
       " 'Marca3',\n",
       " 'Marca_Inno1',\n",
       " 'Marca_Inno2',\n",
       " 'Mes2']"
      ]
     },
     "execution_count": 34,
     "metadata": {},
     "output_type": "execute_result"
    }
   ],
   "source": [
    "# display numerical variables\n",
    "\n",
    "numerical = [col for col in X_train.columns if X_train[col].dtypes != 'O']\n",
    "\n",
    "numerical"
   ]
  },
  {
   "cell_type": "code",
   "execution_count": 35,
   "metadata": {},
   "outputs": [
    {
     "data": {
      "text/plain": [
       "Gerencia2           0.0\n",
       "SubCanal2           0.0\n",
       "Categoria           0.0\n",
       "SegmentoPrecio2     0.0\n",
       "Marca2_x            0.0\n",
       "Cupo2               0.0\n",
       "CapacidadEnvase2    0.0\n",
       "dtype: float64"
      ]
     },
     "execution_count": 35,
     "metadata": {},
     "output_type": "execute_result"
    }
   ],
   "source": [
    "# print percentage of missing values in the categorical variables in training set\n",
    "\n",
    "X_train[categorical].isnull().mean()"
   ]
  },
  {
   "cell_type": "code",
   "execution_count": 36,
   "metadata": {},
   "outputs": [],
   "source": [
    "# print categorical variables with missing data\n",
    "\n",
    "for col in categorical:\n",
    "    if X_train[col].isnull().mean()>0:\n",
    "        print(col, (X_train[col].isnull().mean()))"
   ]
  },
  {
   "cell_type": "code",
   "execution_count": 1,
   "metadata": {},
   "outputs": [
    {
     "name": "stdout",
     "output_type": "stream",
     "text": [
      "Collecting category_encodersNote: you may need to restart the kernel to use updated packages.\n",
      "  Using cached category_encoders-2.2.2-py2.py3-none-any.whl (80 kB)\n",
      "Requirement already satisfied, skipping upgrade: pandas>=0.21.1 in c:\\programdata\\anaconda3\\envs\\primerosprogramas\\lib\\site-packages (from category_encoders) (1.0.4)\n",
      "Requirement already satisfied, skipping upgrade: numpy>=1.14.0 in c:\\programdata\\anaconda3\\envs\\primerosprogramas\\lib\\site-packages (from category_encoders) (1.18.1)\n",
      "Requirement already satisfied, skipping upgrade: scipy>=1.0.0 in c:\\programdata\\anaconda3\\envs\\primerosprogramas\\lib\\site-packages (from category_encoders) (1.4.1)\n",
      "Requirement already satisfied, skipping upgrade: patsy>=0.5.1 in c:\\programdata\\anaconda3\\envs\\primerosprogramas\\lib\\site-packages (from category_encoders) (0.5.1)\n",
      "Requirement already satisfied, skipping upgrade: scikit-learn>=0.20.0 in c:\\programdata\\anaconda3\\envs\\primerosprogramas\\lib\\site-packages (from category_encoders) (0.23.1)\n",
      "Requirement already satisfied, skipping upgrade: statsmodels>=0.9.0 in c:\\programdata\\anaconda3\\envs\\primerosprogramas\\lib\\site-packages (from category_encoders) (0.11.1)\n",
      "Requirement already satisfied, skipping upgrade: pytz>=2017.2 in c:\\programdata\\anaconda3\\envs\\primerosprogramas\\lib\\site-packages (from pandas>=0.21.1->category_encoders) (2020.1)\n",
      "Requirement already satisfied, skipping upgrade: python-dateutil>=2.6.1 in c:\\programdata\\anaconda3\\envs\\primerosprogramas\\lib\\site-packages (from pandas>=0.21.1->category_encoders) (2.8.1)\n",
      "Requirement already satisfied, skipping upgrade: six in c:\\programdata\\anaconda3\\envs\\primerosprogramas\\lib\\site-packages (from patsy>=0.5.1->category_encoders) (1.15.0)\n",
      "Requirement already satisfied, skipping upgrade: threadpoolctl>=2.0.0 in c:\\programdata\\anaconda3\\envs\\primerosprogramas\\lib\\site-packages (from scikit-learn>=0.20.0->category_encoders) (2.1.0)\n",
      "Requirement already satisfied, skipping upgrade: joblib>=0.11 in c:\\programdata\\anaconda3\\envs\\primerosprogramas\\lib\\site-packages (from scikit-learn>=0.20.0->category_encoders) (0.16.0)\n",
      "Installing collected packages: category-encoders\n",
      "Successfully installed category-encoders-2.2.2\n",
      "\n"
     ]
    }
   ],
   "source": [
    "pip install --upgrade category_encoders"
   ]
  },
  {
   "cell_type": "code",
   "execution_count": 37,
   "metadata": {},
   "outputs": [],
   "source": [
    "# import category encoders\n",
    "\n",
    "import category_encoders as ce"
   ]
  },
  {
   "cell_type": "code",
   "execution_count": 52,
   "metadata": {},
   "outputs": [],
   "source": [
    "# encode remaining variables with one-hot encoding\n",
    "\n",
    "encoder = ce.OneHotEncoder(cols=['Gerencia2',\n",
    "                                 'SubCanal2',\n",
    "                                 'Categoria',\n",
    "                                 'SegmentoPrecio2',\n",
    "                                 'Marca2_x',\n",
    "                                 'Cupo2',\n",
    "                                 'CapacidadEnvase2'\n",
    "                                ])\n",
    "\n",
    "X_train = encoder.fit_transform(X_train)\n",
    "\n",
    "X_test = encoder.transform(X_test)"
   ]
  },
  {
   "cell_type": "code",
   "execution_count": 53,
   "metadata": {},
   "outputs": [
    {
     "data": {
      "text/html": [
       "<div>\n",
       "<style scoped>\n",
       "    .dataframe tbody tr th:only-of-type {\n",
       "        vertical-align: middle;\n",
       "    }\n",
       "\n",
       "    .dataframe tbody tr th {\n",
       "        vertical-align: top;\n",
       "    }\n",
       "\n",
       "    .dataframe thead th {\n",
       "        text-align: right;\n",
       "    }\n",
       "</style>\n",
       "<table border=\"1\" class=\"dataframe\">\n",
       "  <thead>\n",
       "    <tr style=\"text-align: right;\">\n",
       "      <th></th>\n",
       "      <th>Cliente</th>\n",
       "      <th>Nevera</th>\n",
       "      <th>Volumen</th>\n",
       "      <th>disc</th>\n",
       "      <th>nr</th>\n",
       "      <th>Marca2_y</th>\n",
       "      <th>Marca3</th>\n",
       "      <th>Marca_Inno1</th>\n",
       "      <th>Marca_Inno2</th>\n",
       "      <th>Mes2</th>\n",
       "      <th>...</th>\n",
       "      <th>Marca2_x_1</th>\n",
       "      <th>Marca2_x_2</th>\n",
       "      <th>Marca2_x_3</th>\n",
       "      <th>Marca2_x_4</th>\n",
       "      <th>Marca2_x_5</th>\n",
       "      <th>Cupo2_1</th>\n",
       "      <th>Cupo2_2</th>\n",
       "      <th>CapacidadEnvase2_1</th>\n",
       "      <th>CapacidadEnvase2_2</th>\n",
       "      <th>CapacidadEnvase2_3</th>\n",
       "    </tr>\n",
       "  </thead>\n",
       "  <tbody>\n",
       "    <tr>\n",
       "      <th>577792</th>\n",
       "      <td>9714</td>\n",
       "      <td>0</td>\n",
       "      <td>0.009352</td>\n",
       "      <td>0.000000</td>\n",
       "      <td>165.516011</td>\n",
       "      <td>0.0</td>\n",
       "      <td>1.0</td>\n",
       "      <td>0.0</td>\n",
       "      <td>0.0</td>\n",
       "      <td>19</td>\n",
       "      <td>...</td>\n",
       "      <td>1</td>\n",
       "      <td>0</td>\n",
       "      <td>0</td>\n",
       "      <td>0</td>\n",
       "      <td>0</td>\n",
       "      <td>1</td>\n",
       "      <td>0</td>\n",
       "      <td>1</td>\n",
       "      <td>0</td>\n",
       "      <td>0</td>\n",
       "    </tr>\n",
       "    <tr>\n",
       "      <th>125883</th>\n",
       "      <td>2449</td>\n",
       "      <td>1</td>\n",
       "      <td>0.018705</td>\n",
       "      <td>0.000000</td>\n",
       "      <td>331.031968</td>\n",
       "      <td>0.0</td>\n",
       "      <td>1.0</td>\n",
       "      <td>0.0</td>\n",
       "      <td>0.0</td>\n",
       "      <td>20</td>\n",
       "      <td>...</td>\n",
       "      <td>1</td>\n",
       "      <td>0</td>\n",
       "      <td>0</td>\n",
       "      <td>0</td>\n",
       "      <td>0</td>\n",
       "      <td>1</td>\n",
       "      <td>0</td>\n",
       "      <td>1</td>\n",
       "      <td>0</td>\n",
       "      <td>0</td>\n",
       "    </tr>\n",
       "    <tr>\n",
       "      <th>774530</th>\n",
       "      <td>13259</td>\n",
       "      <td>1</td>\n",
       "      <td>0.042086</td>\n",
       "      <td>0.000000</td>\n",
       "      <td>744.821941</td>\n",
       "      <td>0.0</td>\n",
       "      <td>1.0</td>\n",
       "      <td>0.0</td>\n",
       "      <td>0.0</td>\n",
       "      <td>18</td>\n",
       "      <td>...</td>\n",
       "      <td>1</td>\n",
       "      <td>0</td>\n",
       "      <td>0</td>\n",
       "      <td>0</td>\n",
       "      <td>0</td>\n",
       "      <td>1</td>\n",
       "      <td>0</td>\n",
       "      <td>1</td>\n",
       "      <td>0</td>\n",
       "      <td>0</td>\n",
       "    </tr>\n",
       "    <tr>\n",
       "      <th>340129</th>\n",
       "      <td>5646</td>\n",
       "      <td>1</td>\n",
       "      <td>0.130933</td>\n",
       "      <td>-549.321941</td>\n",
       "      <td>1676.854406</td>\n",
       "      <td>0.0</td>\n",
       "      <td>1.0</td>\n",
       "      <td>0.0</td>\n",
       "      <td>0.0</td>\n",
       "      <td>11</td>\n",
       "      <td>...</td>\n",
       "      <td>1</td>\n",
       "      <td>0</td>\n",
       "      <td>0</td>\n",
       "      <td>0</td>\n",
       "      <td>0</td>\n",
       "      <td>1</td>\n",
       "      <td>0</td>\n",
       "      <td>1</td>\n",
       "      <td>0</td>\n",
       "      <td>0</td>\n",
       "    </tr>\n",
       "    <tr>\n",
       "      <th>367144</th>\n",
       "      <td>6075</td>\n",
       "      <td>0</td>\n",
       "      <td>0.023381</td>\n",
       "      <td>0.000000</td>\n",
       "      <td>413.789973</td>\n",
       "      <td>0.0</td>\n",
       "      <td>1.0</td>\n",
       "      <td>0.0</td>\n",
       "      <td>0.0</td>\n",
       "      <td>14</td>\n",
       "      <td>...</td>\n",
       "      <td>1</td>\n",
       "      <td>0</td>\n",
       "      <td>0</td>\n",
       "      <td>0</td>\n",
       "      <td>0</td>\n",
       "      <td>1</td>\n",
       "      <td>0</td>\n",
       "      <td>1</td>\n",
       "      <td>0</td>\n",
       "      <td>0</td>\n",
       "    </tr>\n",
       "  </tbody>\n",
       "</table>\n",
       "<p>5 rows × 65 columns</p>\n",
       "</div>"
      ],
      "text/plain": [
       "        Cliente  Nevera   Volumen        disc           nr  Marca2_y  Marca3  \\\n",
       "577792     9714       0  0.009352    0.000000   165.516011       0.0     1.0   \n",
       "125883     2449       1  0.018705    0.000000   331.031968       0.0     1.0   \n",
       "774530    13259       1  0.042086    0.000000   744.821941       0.0     1.0   \n",
       "340129     5646       1  0.130933 -549.321941  1676.854406       0.0     1.0   \n",
       "367144     6075       0  0.023381    0.000000   413.789973       0.0     1.0   \n",
       "\n",
       "        Marca_Inno1  Marca_Inno2  Mes2  ...  Marca2_x_1  Marca2_x_2  \\\n",
       "577792          0.0          0.0    19  ...           1           0   \n",
       "125883          0.0          0.0    20  ...           1           0   \n",
       "774530          0.0          0.0    18  ...           1           0   \n",
       "340129          0.0          0.0    11  ...           1           0   \n",
       "367144          0.0          0.0    14  ...           1           0   \n",
       "\n",
       "        Marca2_x_3  Marca2_x_4  Marca2_x_5  Cupo2_1  Cupo2_2  \\\n",
       "577792           0           0           0        1        0   \n",
       "125883           0           0           0        1        0   \n",
       "774530           0           0           0        1        0   \n",
       "340129           0           0           0        1        0   \n",
       "367144           0           0           0        1        0   \n",
       "\n",
       "        CapacidadEnvase2_1  CapacidadEnvase2_2  CapacidadEnvase2_3  \n",
       "577792                   1                   0                   0  \n",
       "125883                   1                   0                   0  \n",
       "774530                   1                   0                   0  \n",
       "340129                   1                   0                   0  \n",
       "367144                   1                   0                   0  \n",
       "\n",
       "[5 rows x 65 columns]"
      ]
     },
     "execution_count": 53,
     "metadata": {},
     "output_type": "execute_result"
    }
   ],
   "source": [
    "X_train.head()"
   ]
  },
  {
   "cell_type": "code",
   "execution_count": 54,
   "metadata": {},
   "outputs": [
    {
     "data": {
      "text/plain": [
       "(48029, 65)"
      ]
     },
     "execution_count": 54,
     "metadata": {},
     "output_type": "execute_result"
    }
   ],
   "source": [
    "X_train.shape"
   ]
  },
  {
   "cell_type": "code",
   "execution_count": 55,
   "metadata": {},
   "outputs": [
    {
     "data": {
      "text/plain": [
       "(20584, 65)"
      ]
     },
     "execution_count": 55,
     "metadata": {},
     "output_type": "execute_result"
    }
   ],
   "source": [
    "X_test.shape"
   ]
  },
  {
   "cell_type": "code",
   "execution_count": 56,
   "metadata": {},
   "outputs": [],
   "source": [
    "#Feature Scaling\n",
    "cols = X_train.columns"
   ]
  },
  {
   "cell_type": "code",
   "execution_count": 57,
   "metadata": {},
   "outputs": [],
   "source": [
    "from sklearn.preprocessing import RobustScaler\n",
    "\n",
    "scaler = RobustScaler()\n",
    "\n",
    "X_train = scaler.fit_transform(X_train)\n",
    "\n",
    "X_test = scaler.transform(X_test)"
   ]
  },
  {
   "cell_type": "code",
   "execution_count": 58,
   "metadata": {},
   "outputs": [],
   "source": [
    "X_train = pd.DataFrame(X_train, columns=[cols])"
   ]
  },
  {
   "cell_type": "code",
   "execution_count": 59,
   "metadata": {},
   "outputs": [],
   "source": [
    "X_test = pd.DataFrame(X_test, columns=[cols])"
   ]
  },
  {
   "cell_type": "code",
   "execution_count": 60,
   "metadata": {},
   "outputs": [
    {
     "data": {
      "text/html": [
       "<div>\n",
       "<style scoped>\n",
       "    .dataframe tbody tr th:only-of-type {\n",
       "        vertical-align: middle;\n",
       "    }\n",
       "\n",
       "    .dataframe tbody tr th {\n",
       "        vertical-align: top;\n",
       "    }\n",
       "\n",
       "    .dataframe thead tr th {\n",
       "        text-align: left;\n",
       "    }\n",
       "</style>\n",
       "<table border=\"1\" class=\"dataframe\">\n",
       "  <thead>\n",
       "    <tr>\n",
       "      <th></th>\n",
       "      <th>Cliente</th>\n",
       "      <th>Nevera</th>\n",
       "      <th>Volumen</th>\n",
       "      <th>disc</th>\n",
       "      <th>nr</th>\n",
       "      <th>Marca2_y</th>\n",
       "      <th>Marca3</th>\n",
       "      <th>Marca_Inno1</th>\n",
       "      <th>Marca_Inno2</th>\n",
       "      <th>Mes2</th>\n",
       "      <th>...</th>\n",
       "      <th>Marca2_x_1</th>\n",
       "      <th>Marca2_x_2</th>\n",
       "      <th>Marca2_x_3</th>\n",
       "      <th>Marca2_x_4</th>\n",
       "      <th>Marca2_x_5</th>\n",
       "      <th>Cupo2_1</th>\n",
       "      <th>Cupo2_2</th>\n",
       "      <th>CapacidadEnvase2_1</th>\n",
       "      <th>CapacidadEnvase2_2</th>\n",
       "      <th>CapacidadEnvase2_3</th>\n",
       "    </tr>\n",
       "  </thead>\n",
       "  <tbody>\n",
       "    <tr>\n",
       "      <th>0</th>\n",
       "      <td>0.168268</td>\n",
       "      <td>-1.0</td>\n",
       "      <td>-0.500000</td>\n",
       "      <td>0.000000</td>\n",
       "      <td>-0.260913</td>\n",
       "      <td>0.0</td>\n",
       "      <td>0.0</td>\n",
       "      <td>0.0</td>\n",
       "      <td>0.0</td>\n",
       "      <td>0.4</td>\n",
       "      <td>...</td>\n",
       "      <td>0.0</td>\n",
       "      <td>0.0</td>\n",
       "      <td>0.0</td>\n",
       "      <td>0.0</td>\n",
       "      <td>0.0</td>\n",
       "      <td>0.0</td>\n",
       "      <td>0.0</td>\n",
       "      <td>0.0</td>\n",
       "      <td>0.0</td>\n",
       "      <td>0.0</td>\n",
       "    </tr>\n",
       "    <tr>\n",
       "      <th>1</th>\n",
       "      <td>-0.704300</td>\n",
       "      <td>0.0</td>\n",
       "      <td>-0.333333</td>\n",
       "      <td>0.000000</td>\n",
       "      <td>-0.036740</td>\n",
       "      <td>0.0</td>\n",
       "      <td>0.0</td>\n",
       "      <td>0.0</td>\n",
       "      <td>0.0</td>\n",
       "      <td>0.5</td>\n",
       "      <td>...</td>\n",
       "      <td>0.0</td>\n",
       "      <td>0.0</td>\n",
       "      <td>0.0</td>\n",
       "      <td>0.0</td>\n",
       "      <td>0.0</td>\n",
       "      <td>0.0</td>\n",
       "      <td>0.0</td>\n",
       "      <td>0.0</td>\n",
       "      <td>0.0</td>\n",
       "      <td>0.0</td>\n",
       "    </tr>\n",
       "    <tr>\n",
       "      <th>2</th>\n",
       "      <td>0.594043</td>\n",
       "      <td>0.0</td>\n",
       "      <td>0.083333</td>\n",
       "      <td>0.000000</td>\n",
       "      <td>0.523693</td>\n",
       "      <td>0.0</td>\n",
       "      <td>0.0</td>\n",
       "      <td>0.0</td>\n",
       "      <td>0.0</td>\n",
       "      <td>0.3</td>\n",
       "      <td>...</td>\n",
       "      <td>0.0</td>\n",
       "      <td>0.0</td>\n",
       "      <td>0.0</td>\n",
       "      <td>0.0</td>\n",
       "      <td>0.0</td>\n",
       "      <td>0.0</td>\n",
       "      <td>0.0</td>\n",
       "      <td>0.0</td>\n",
       "      <td>0.0</td>\n",
       "      <td>0.0</td>\n",
       "    </tr>\n",
       "    <tr>\n",
       "      <th>3</th>\n",
       "      <td>-0.320322</td>\n",
       "      <td>0.0</td>\n",
       "      <td>1.666667</td>\n",
       "      <td>-24.395452</td>\n",
       "      <td>1.786029</td>\n",
       "      <td>0.0</td>\n",
       "      <td>0.0</td>\n",
       "      <td>0.0</td>\n",
       "      <td>0.0</td>\n",
       "      <td>-0.4</td>\n",
       "      <td>...</td>\n",
       "      <td>0.0</td>\n",
       "      <td>0.0</td>\n",
       "      <td>0.0</td>\n",
       "      <td>0.0</td>\n",
       "      <td>0.0</td>\n",
       "      <td>0.0</td>\n",
       "      <td>0.0</td>\n",
       "      <td>0.0</td>\n",
       "      <td>0.0</td>\n",
       "      <td>0.0</td>\n",
       "    </tr>\n",
       "    <tr>\n",
       "      <th>4</th>\n",
       "      <td>-0.268797</td>\n",
       "      <td>-1.0</td>\n",
       "      <td>-0.250000</td>\n",
       "      <td>0.000000</td>\n",
       "      <td>0.075347</td>\n",
       "      <td>0.0</td>\n",
       "      <td>0.0</td>\n",
       "      <td>0.0</td>\n",
       "      <td>0.0</td>\n",
       "      <td>-0.1</td>\n",
       "      <td>...</td>\n",
       "      <td>0.0</td>\n",
       "      <td>0.0</td>\n",
       "      <td>0.0</td>\n",
       "      <td>0.0</td>\n",
       "      <td>0.0</td>\n",
       "      <td>0.0</td>\n",
       "      <td>0.0</td>\n",
       "      <td>0.0</td>\n",
       "      <td>0.0</td>\n",
       "      <td>0.0</td>\n",
       "    </tr>\n",
       "  </tbody>\n",
       "</table>\n",
       "<p>5 rows × 65 columns</p>\n",
       "</div>"
      ],
      "text/plain": [
       "    Cliente Nevera   Volumen       disc        nr Marca2_y Marca3 Marca_Inno1  \\\n",
       "0  0.168268   -1.0 -0.500000   0.000000 -0.260913      0.0    0.0         0.0   \n",
       "1 -0.704300    0.0 -0.333333   0.000000 -0.036740      0.0    0.0         0.0   \n",
       "2  0.594043    0.0  0.083333   0.000000  0.523693      0.0    0.0         0.0   \n",
       "3 -0.320322    0.0  1.666667 -24.395452  1.786029      0.0    0.0         0.0   \n",
       "4 -0.268797   -1.0 -0.250000   0.000000  0.075347      0.0    0.0         0.0   \n",
       "\n",
       "  Marca_Inno2 Mes2  ... Marca2_x_1 Marca2_x_2 Marca2_x_3 Marca2_x_4  \\\n",
       "0         0.0  0.4  ...        0.0        0.0        0.0        0.0   \n",
       "1         0.0  0.5  ...        0.0        0.0        0.0        0.0   \n",
       "2         0.0  0.3  ...        0.0        0.0        0.0        0.0   \n",
       "3         0.0 -0.4  ...        0.0        0.0        0.0        0.0   \n",
       "4         0.0 -0.1  ...        0.0        0.0        0.0        0.0   \n",
       "\n",
       "  Marca2_x_5 Cupo2_1 Cupo2_2 CapacidadEnvase2_1 CapacidadEnvase2_2  \\\n",
       "0        0.0     0.0     0.0                0.0                0.0   \n",
       "1        0.0     0.0     0.0                0.0                0.0   \n",
       "2        0.0     0.0     0.0                0.0                0.0   \n",
       "3        0.0     0.0     0.0                0.0                0.0   \n",
       "4        0.0     0.0     0.0                0.0                0.0   \n",
       "\n",
       "  CapacidadEnvase2_3  \n",
       "0                0.0  \n",
       "1                0.0  \n",
       "2                0.0  \n",
       "3                0.0  \n",
       "4                0.0  \n",
       "\n",
       "[5 rows x 65 columns]"
      ]
     },
     "execution_count": 60,
     "metadata": {},
     "output_type": "execute_result"
    }
   ],
   "source": [
    "X_train.head()"
   ]
  },
  {
   "cell_type": "code",
   "execution_count": 47,
   "metadata": {},
   "outputs": [],
   "source": []
  },
  {
   "cell_type": "code",
   "execution_count": 50,
   "metadata": {},
   "outputs": [
    {
     "data": {
      "text/html": [
       "<div>\n",
       "<style scoped>\n",
       "    .dataframe tbody tr th:only-of-type {\n",
       "        vertical-align: middle;\n",
       "    }\n",
       "\n",
       "    .dataframe tbody tr th {\n",
       "        vertical-align: top;\n",
       "    }\n",
       "\n",
       "    .dataframe thead th {\n",
       "        text-align: right;\n",
       "    }\n",
       "</style>\n",
       "<table border=\"1\" class=\"dataframe\">\n",
       "  <thead>\n",
       "    <tr style=\"text-align: right;\">\n",
       "      <th></th>\n",
       "      <th>Cliente</th>\n",
       "      <th>Nevera</th>\n",
       "      <th>Volumen</th>\n",
       "      <th>disc</th>\n",
       "      <th>nr</th>\n",
       "      <th>Marca2_y</th>\n",
       "      <th>Marca3</th>\n",
       "      <th>Marca_Inno1</th>\n",
       "      <th>Marca_Inno2</th>\n",
       "      <th>Mes2</th>\n",
       "      <th>Gerencia2</th>\n",
       "      <th>SubCanal2</th>\n",
       "      <th>Categoria</th>\n",
       "      <th>SegmentoPrecio2</th>\n",
       "      <th>Marca2_x</th>\n",
       "      <th>Cupo2</th>\n",
       "      <th>CapacidadEnvase2</th>\n",
       "    </tr>\n",
       "  </thead>\n",
       "  <tbody>\n",
       "    <tr>\n",
       "      <th>577792</th>\n",
       "      <td>9714</td>\n",
       "      <td>0</td>\n",
       "      <td>0.009352</td>\n",
       "      <td>0.000000</td>\n",
       "      <td>165.516011</td>\n",
       "      <td>0.0</td>\n",
       "      <td>1.0</td>\n",
       "      <td>0.0</td>\n",
       "      <td>0.0</td>\n",
       "      <td>19</td>\n",
       "      <td>Gerencia_10</td>\n",
       "      <td>Subcanal_3</td>\n",
       "      <td>Categoria_2</td>\n",
       "      <td>SegmentoPrecio_3</td>\n",
       "      <td>Marca_9</td>\n",
       "      <td>Cupo_3</td>\n",
       "      <td>CapacidadEnvase_12</td>\n",
       "    </tr>\n",
       "    <tr>\n",
       "      <th>125883</th>\n",
       "      <td>2449</td>\n",
       "      <td>1</td>\n",
       "      <td>0.018705</td>\n",
       "      <td>0.000000</td>\n",
       "      <td>331.031968</td>\n",
       "      <td>0.0</td>\n",
       "      <td>1.0</td>\n",
       "      <td>0.0</td>\n",
       "      <td>0.0</td>\n",
       "      <td>20</td>\n",
       "      <td>Gerencia_9</td>\n",
       "      <td>Subcanal_1</td>\n",
       "      <td>Categoria_1</td>\n",
       "      <td>SegmentoPrecio_3</td>\n",
       "      <td>Marca_9</td>\n",
       "      <td>Cupo_3</td>\n",
       "      <td>CapacidadEnvase_12</td>\n",
       "    </tr>\n",
       "    <tr>\n",
       "      <th>774530</th>\n",
       "      <td>13259</td>\n",
       "      <td>1</td>\n",
       "      <td>0.042086</td>\n",
       "      <td>0.000000</td>\n",
       "      <td>744.821941</td>\n",
       "      <td>0.0</td>\n",
       "      <td>1.0</td>\n",
       "      <td>0.0</td>\n",
       "      <td>0.0</td>\n",
       "      <td>18</td>\n",
       "      <td>Gerencia_9</td>\n",
       "      <td>Subcanal_8</td>\n",
       "      <td>Categoria_2</td>\n",
       "      <td>SegmentoPrecio_3</td>\n",
       "      <td>Marca_9</td>\n",
       "      <td>Cupo_3</td>\n",
       "      <td>CapacidadEnvase_12</td>\n",
       "    </tr>\n",
       "    <tr>\n",
       "      <th>340129</th>\n",
       "      <td>5646</td>\n",
       "      <td>1</td>\n",
       "      <td>0.130933</td>\n",
       "      <td>-549.321941</td>\n",
       "      <td>1676.854406</td>\n",
       "      <td>0.0</td>\n",
       "      <td>1.0</td>\n",
       "      <td>0.0</td>\n",
       "      <td>0.0</td>\n",
       "      <td>11</td>\n",
       "      <td>Gerencia_3</td>\n",
       "      <td>Subcanal_2</td>\n",
       "      <td>Categoria_3</td>\n",
       "      <td>SegmentoPrecio_3</td>\n",
       "      <td>Marca_9</td>\n",
       "      <td>Cupo_3</td>\n",
       "      <td>CapacidadEnvase_12</td>\n",
       "    </tr>\n",
       "    <tr>\n",
       "      <th>367144</th>\n",
       "      <td>6075</td>\n",
       "      <td>0</td>\n",
       "      <td>0.023381</td>\n",
       "      <td>0.000000</td>\n",
       "      <td>413.789973</td>\n",
       "      <td>0.0</td>\n",
       "      <td>1.0</td>\n",
       "      <td>0.0</td>\n",
       "      <td>0.0</td>\n",
       "      <td>14</td>\n",
       "      <td>Gerencia_3</td>\n",
       "      <td>Subcanal_8</td>\n",
       "      <td>Categoria_4</td>\n",
       "      <td>SegmentoPrecio_3</td>\n",
       "      <td>Marca_9</td>\n",
       "      <td>Cupo_3</td>\n",
       "      <td>CapacidadEnvase_12</td>\n",
       "    </tr>\n",
       "  </tbody>\n",
       "</table>\n",
       "</div>"
      ],
      "text/plain": [
       "        Cliente  Nevera   Volumen        disc           nr  Marca2_y  Marca3  \\\n",
       "577792     9714       0  0.009352    0.000000   165.516011       0.0     1.0   \n",
       "125883     2449       1  0.018705    0.000000   331.031968       0.0     1.0   \n",
       "774530    13259       1  0.042086    0.000000   744.821941       0.0     1.0   \n",
       "340129     5646       1  0.130933 -549.321941  1676.854406       0.0     1.0   \n",
       "367144     6075       0  0.023381    0.000000   413.789973       0.0     1.0   \n",
       "\n",
       "        Marca_Inno1  Marca_Inno2  Mes2    Gerencia2   SubCanal2    Categoria  \\\n",
       "577792          0.0          0.0    19  Gerencia_10  Subcanal_3  Categoria_2   \n",
       "125883          0.0          0.0    20   Gerencia_9  Subcanal_1  Categoria_1   \n",
       "774530          0.0          0.0    18   Gerencia_9  Subcanal_8  Categoria_2   \n",
       "340129          0.0          0.0    11   Gerencia_3  Subcanal_2  Categoria_3   \n",
       "367144          0.0          0.0    14   Gerencia_3  Subcanal_8  Categoria_4   \n",
       "\n",
       "         SegmentoPrecio2 Marca2_x   Cupo2    CapacidadEnvase2  \n",
       "577792  SegmentoPrecio_3  Marca_9  Cupo_3  CapacidadEnvase_12  \n",
       "125883  SegmentoPrecio_3  Marca_9  Cupo_3  CapacidadEnvase_12  \n",
       "774530  SegmentoPrecio_3  Marca_9  Cupo_3  CapacidadEnvase_12  \n",
       "340129  SegmentoPrecio_3  Marca_9  Cupo_3  CapacidadEnvase_12  \n",
       "367144  SegmentoPrecio_3  Marca_9  Cupo_3  CapacidadEnvase_12  "
      ]
     },
     "execution_count": 50,
     "metadata": {},
     "output_type": "execute_result"
    }
   ],
   "source": []
  },
  {
   "cell_type": "code",
   "execution_count": 61,
   "metadata": {},
   "outputs": [
    {
     "ename": "ValueError",
     "evalue": "Unknown label type: 'continuous-multioutput'",
     "output_type": "error",
     "traceback": [
      "\u001b[1;31m---------------------------------------------------------------------------\u001b[0m",
      "\u001b[1;31mValueError\u001b[0m                                Traceback (most recent call last)",
      "\u001b[1;32m<ipython-input-61-39e7a5c304d9>\u001b[0m in \u001b[0;36m<module>\u001b[1;34m\u001b[0m\n\u001b[0;32m      2\u001b[0m \u001b[1;33m\u001b[0m\u001b[0m\n\u001b[0;32m      3\u001b[0m \u001b[0mclassifier\u001b[0m \u001b[1;33m=\u001b[0m \u001b[0mDecisionTreeClassifier\u001b[0m\u001b[1;33m(\u001b[0m\u001b[0mrandom_state\u001b[0m \u001b[1;33m=\u001b[0m \u001b[1;36m0\u001b[0m\u001b[1;33m,\u001b[0m \u001b[0mmax_depth\u001b[0m \u001b[1;33m=\u001b[0m \u001b[1;36m11\u001b[0m\u001b[1;33m)\u001b[0m\u001b[1;33m\u001b[0m\u001b[1;33m\u001b[0m\u001b[0m\n\u001b[1;32m----> 4\u001b[1;33m \u001b[0mclassifier\u001b[0m\u001b[1;33m.\u001b[0m\u001b[0mfit\u001b[0m\u001b[1;33m(\u001b[0m\u001b[0mX_train\u001b[0m\u001b[1;33m,\u001b[0m \u001b[0mX_test\u001b[0m\u001b[1;33m)\u001b[0m\u001b[1;33m\u001b[0m\u001b[1;33m\u001b[0m\u001b[0m\n\u001b[0m\u001b[0;32m      5\u001b[0m \u001b[0mprint\u001b[0m\u001b[1;33m(\u001b[0m\u001b[0mclassifier\u001b[0m\u001b[1;33m.\u001b[0m\u001b[0mscore\u001b[0m\u001b[1;33m(\u001b[0m\u001b[0my_train\u001b[0m\u001b[1;33m,\u001b[0m \u001b[0my_test\u001b[0m\u001b[1;33m)\u001b[0m\u001b[1;33m)\u001b[0m\u001b[1;33m\u001b[0m\u001b[1;33m\u001b[0m\u001b[0m\n\u001b[0;32m      6\u001b[0m \u001b[0mprint\u001b[0m\u001b[1;33m(\u001b[0m\u001b[0mclassifier\u001b[0m\u001b[1;33m.\u001b[0m\u001b[0mtree_\u001b[0m\u001b[1;33m.\u001b[0m\u001b[0mmax_depth\u001b[0m\u001b[1;33m)\u001b[0m\u001b[1;33m\u001b[0m\u001b[1;33m\u001b[0m\u001b[0m\n",
      "\u001b[1;32mC:\\ProgramData\\Anaconda3\\envs\\PrimerosProgramas\\lib\\site-packages\\sklearn\\tree\\_classes.py\u001b[0m in \u001b[0;36mfit\u001b[1;34m(self, X, y, sample_weight, check_input, X_idx_sorted)\u001b[0m\n\u001b[0;32m    892\u001b[0m             \u001b[0msample_weight\u001b[0m\u001b[1;33m=\u001b[0m\u001b[0msample_weight\u001b[0m\u001b[1;33m,\u001b[0m\u001b[1;33m\u001b[0m\u001b[1;33m\u001b[0m\u001b[0m\n\u001b[0;32m    893\u001b[0m             \u001b[0mcheck_input\u001b[0m\u001b[1;33m=\u001b[0m\u001b[0mcheck_input\u001b[0m\u001b[1;33m,\u001b[0m\u001b[1;33m\u001b[0m\u001b[1;33m\u001b[0m\u001b[0m\n\u001b[1;32m--> 894\u001b[1;33m             X_idx_sorted=X_idx_sorted)\n\u001b[0m\u001b[0;32m    895\u001b[0m         \u001b[1;32mreturn\u001b[0m \u001b[0mself\u001b[0m\u001b[1;33m\u001b[0m\u001b[1;33m\u001b[0m\u001b[0m\n\u001b[0;32m    896\u001b[0m \u001b[1;33m\u001b[0m\u001b[0m\n",
      "\u001b[1;32mC:\\ProgramData\\Anaconda3\\envs\\PrimerosProgramas\\lib\\site-packages\\sklearn\\tree\\_classes.py\u001b[0m in \u001b[0;36mfit\u001b[1;34m(self, X, y, sample_weight, check_input, X_idx_sorted)\u001b[0m\n\u001b[0;32m    179\u001b[0m \u001b[1;33m\u001b[0m\u001b[0m\n\u001b[0;32m    180\u001b[0m         \u001b[1;32mif\u001b[0m \u001b[0mis_classification\u001b[0m\u001b[1;33m:\u001b[0m\u001b[1;33m\u001b[0m\u001b[1;33m\u001b[0m\u001b[0m\n\u001b[1;32m--> 181\u001b[1;33m             \u001b[0mcheck_classification_targets\u001b[0m\u001b[1;33m(\u001b[0m\u001b[0my\u001b[0m\u001b[1;33m)\u001b[0m\u001b[1;33m\u001b[0m\u001b[1;33m\u001b[0m\u001b[0m\n\u001b[0m\u001b[0;32m    182\u001b[0m             \u001b[0my\u001b[0m \u001b[1;33m=\u001b[0m \u001b[0mnp\u001b[0m\u001b[1;33m.\u001b[0m\u001b[0mcopy\u001b[0m\u001b[1;33m(\u001b[0m\u001b[0my\u001b[0m\u001b[1;33m)\u001b[0m\u001b[1;33m\u001b[0m\u001b[1;33m\u001b[0m\u001b[0m\n\u001b[0;32m    183\u001b[0m \u001b[1;33m\u001b[0m\u001b[0m\n",
      "\u001b[1;32mC:\\ProgramData\\Anaconda3\\envs\\PrimerosProgramas\\lib\\site-packages\\sklearn\\utils\\multiclass.py\u001b[0m in \u001b[0;36mcheck_classification_targets\u001b[1;34m(y)\u001b[0m\n\u001b[0;32m    170\u001b[0m     if y_type not in ['binary', 'multiclass', 'multiclass-multioutput',\n\u001b[0;32m    171\u001b[0m                       'multilabel-indicator', 'multilabel-sequences']:\n\u001b[1;32m--> 172\u001b[1;33m         \u001b[1;32mraise\u001b[0m \u001b[0mValueError\u001b[0m\u001b[1;33m(\u001b[0m\u001b[1;34m\"Unknown label type: %r\"\u001b[0m \u001b[1;33m%\u001b[0m \u001b[0my_type\u001b[0m\u001b[1;33m)\u001b[0m\u001b[1;33m\u001b[0m\u001b[1;33m\u001b[0m\u001b[0m\n\u001b[0m\u001b[0;32m    173\u001b[0m \u001b[1;33m\u001b[0m\u001b[0m\n\u001b[0;32m    174\u001b[0m \u001b[1;33m\u001b[0m\u001b[0m\n",
      "\u001b[1;31mValueError\u001b[0m: Unknown label type: 'continuous-multioutput'"
     ]
    }
   ],
   "source": [
    "from sklearn.tree import DecisionTreeClassifier\n",
    "\n",
    "classifier = DecisionTreeClassifier(random_state = 0, max_depth = 11)\n",
    "classifier.fit(X_train, X_test)\n",
    "print(classifier.score(y_train, y_test))\n",
    "print(classifier.tree_.max_depth)"
   ]
  },
  {
   "cell_type": "code",
   "execution_count": 63,
   "metadata": {},
   "outputs": [
    {
     "ename": "ValueError",
     "evalue": "Found input variables with inconsistent numbers of samples: [48029, 20584]",
     "output_type": "error",
     "traceback": [
      "\u001b[1;31m---------------------------------------------------------------------------\u001b[0m",
      "\u001b[1;31mValueError\u001b[0m                                Traceback (most recent call last)",
      "\u001b[1;32m<ipython-input-63-08eb3612381a>\u001b[0m in \u001b[0;36m<module>\u001b[1;34m\u001b[0m\n\u001b[0;32m      2\u001b[0m \u001b[1;33m\u001b[0m\u001b[0m\n\u001b[0;32m      3\u001b[0m \u001b[0mclassifier\u001b[0m \u001b[1;33m=\u001b[0m \u001b[0mRandomForestClassifier\u001b[0m\u001b[1;33m(\u001b[0m\u001b[0mn_estimators\u001b[0m \u001b[1;33m=\u001b[0m \u001b[1;36m2000\u001b[0m\u001b[1;33m,\u001b[0m \u001b[0mrandom_state\u001b[0m \u001b[1;33m=\u001b[0m \u001b[1;36m0\u001b[0m\u001b[1;33m)\u001b[0m\u001b[1;33m\u001b[0m\u001b[1;33m\u001b[0m\u001b[0m\n\u001b[1;32m----> 4\u001b[1;33m \u001b[0mclassifier\u001b[0m\u001b[1;33m.\u001b[0m\u001b[0mfit\u001b[0m\u001b[1;33m(\u001b[0m\u001b[0mX_train\u001b[0m\u001b[1;33m,\u001b[0m \u001b[0mX_test\u001b[0m\u001b[1;33m)\u001b[0m\u001b[1;33m\u001b[0m\u001b[1;33m\u001b[0m\u001b[0m\n\u001b[0m\u001b[0;32m      5\u001b[0m \u001b[0mprint\u001b[0m\u001b[1;33m(\u001b[0m\u001b[0mclassifier\u001b[0m\u001b[1;33m.\u001b[0m\u001b[0mscore\u001b[0m\u001b[1;33m(\u001b[0m\u001b[0my_train\u001b[0m\u001b[1;33m,\u001b[0m \u001b[0my_test\u001b[0m\u001b[1;33m)\u001b[0m\u001b[1;33m)\u001b[0m\u001b[1;33m\u001b[0m\u001b[1;33m\u001b[0m\u001b[0m\n",
      "\u001b[1;32mC:\\ProgramData\\Anaconda3\\envs\\PrimerosProgramas\\lib\\site-packages\\sklearn\\ensemble\\_forest.py\u001b[0m in \u001b[0;36mfit\u001b[1;34m(self, X, y, sample_weight)\u001b[0m\n\u001b[0;32m    302\u001b[0m             )\n\u001b[0;32m    303\u001b[0m         X, y = self._validate_data(X, y, multi_output=True,\n\u001b[1;32m--> 304\u001b[1;33m                                    accept_sparse=\"csc\", dtype=DTYPE)\n\u001b[0m\u001b[0;32m    305\u001b[0m         \u001b[1;32mif\u001b[0m \u001b[0msample_weight\u001b[0m \u001b[1;32mis\u001b[0m \u001b[1;32mnot\u001b[0m \u001b[1;32mNone\u001b[0m\u001b[1;33m:\u001b[0m\u001b[1;33m\u001b[0m\u001b[1;33m\u001b[0m\u001b[0m\n\u001b[0;32m    306\u001b[0m             \u001b[0msample_weight\u001b[0m \u001b[1;33m=\u001b[0m \u001b[0m_check_sample_weight\u001b[0m\u001b[1;33m(\u001b[0m\u001b[0msample_weight\u001b[0m\u001b[1;33m,\u001b[0m \u001b[0mX\u001b[0m\u001b[1;33m)\u001b[0m\u001b[1;33m\u001b[0m\u001b[1;33m\u001b[0m\u001b[0m\n",
      "\u001b[1;32mC:\\ProgramData\\Anaconda3\\envs\\PrimerosProgramas\\lib\\site-packages\\sklearn\\base.py\u001b[0m in \u001b[0;36m_validate_data\u001b[1;34m(self, X, y, reset, validate_separately, **check_params)\u001b[0m\n\u001b[0;32m    430\u001b[0m                 \u001b[0my\u001b[0m \u001b[1;33m=\u001b[0m \u001b[0mcheck_array\u001b[0m\u001b[1;33m(\u001b[0m\u001b[0my\u001b[0m\u001b[1;33m,\u001b[0m \u001b[1;33m**\u001b[0m\u001b[0mcheck_y_params\u001b[0m\u001b[1;33m)\u001b[0m\u001b[1;33m\u001b[0m\u001b[1;33m\u001b[0m\u001b[0m\n\u001b[0;32m    431\u001b[0m             \u001b[1;32melse\u001b[0m\u001b[1;33m:\u001b[0m\u001b[1;33m\u001b[0m\u001b[1;33m\u001b[0m\u001b[0m\n\u001b[1;32m--> 432\u001b[1;33m                 \u001b[0mX\u001b[0m\u001b[1;33m,\u001b[0m \u001b[0my\u001b[0m \u001b[1;33m=\u001b[0m \u001b[0mcheck_X_y\u001b[0m\u001b[1;33m(\u001b[0m\u001b[0mX\u001b[0m\u001b[1;33m,\u001b[0m \u001b[0my\u001b[0m\u001b[1;33m,\u001b[0m \u001b[1;33m**\u001b[0m\u001b[0mcheck_params\u001b[0m\u001b[1;33m)\u001b[0m\u001b[1;33m\u001b[0m\u001b[1;33m\u001b[0m\u001b[0m\n\u001b[0m\u001b[0;32m    433\u001b[0m             \u001b[0mout\u001b[0m \u001b[1;33m=\u001b[0m \u001b[0mX\u001b[0m\u001b[1;33m,\u001b[0m \u001b[0my\u001b[0m\u001b[1;33m\u001b[0m\u001b[1;33m\u001b[0m\u001b[0m\n\u001b[0;32m    434\u001b[0m \u001b[1;33m\u001b[0m\u001b[0m\n",
      "\u001b[1;32mC:\\ProgramData\\Anaconda3\\envs\\PrimerosProgramas\\lib\\site-packages\\sklearn\\utils\\validation.py\u001b[0m in \u001b[0;36minner_f\u001b[1;34m(*args, **kwargs)\u001b[0m\n\u001b[0;32m     71\u001b[0m                           FutureWarning)\n\u001b[0;32m     72\u001b[0m         \u001b[0mkwargs\u001b[0m\u001b[1;33m.\u001b[0m\u001b[0mupdate\u001b[0m\u001b[1;33m(\u001b[0m\u001b[1;33m{\u001b[0m\u001b[0mk\u001b[0m\u001b[1;33m:\u001b[0m \u001b[0marg\u001b[0m \u001b[1;32mfor\u001b[0m \u001b[0mk\u001b[0m\u001b[1;33m,\u001b[0m \u001b[0marg\u001b[0m \u001b[1;32min\u001b[0m \u001b[0mzip\u001b[0m\u001b[1;33m(\u001b[0m\u001b[0msig\u001b[0m\u001b[1;33m.\u001b[0m\u001b[0mparameters\u001b[0m\u001b[1;33m,\u001b[0m \u001b[0margs\u001b[0m\u001b[1;33m)\u001b[0m\u001b[1;33m}\u001b[0m\u001b[1;33m)\u001b[0m\u001b[1;33m\u001b[0m\u001b[1;33m\u001b[0m\u001b[0m\n\u001b[1;32m---> 73\u001b[1;33m         \u001b[1;32mreturn\u001b[0m \u001b[0mf\u001b[0m\u001b[1;33m(\u001b[0m\u001b[1;33m**\u001b[0m\u001b[0mkwargs\u001b[0m\u001b[1;33m)\u001b[0m\u001b[1;33m\u001b[0m\u001b[1;33m\u001b[0m\u001b[0m\n\u001b[0m\u001b[0;32m     74\u001b[0m     \u001b[1;32mreturn\u001b[0m \u001b[0minner_f\u001b[0m\u001b[1;33m\u001b[0m\u001b[1;33m\u001b[0m\u001b[0m\n\u001b[0;32m     75\u001b[0m \u001b[1;33m\u001b[0m\u001b[0m\n",
      "\u001b[1;32mC:\\ProgramData\\Anaconda3\\envs\\PrimerosProgramas\\lib\\site-packages\\sklearn\\utils\\validation.py\u001b[0m in \u001b[0;36mcheck_X_y\u001b[1;34m(X, y, accept_sparse, accept_large_sparse, dtype, order, copy, force_all_finite, ensure_2d, allow_nd, multi_output, ensure_min_samples, ensure_min_features, y_numeric, estimator)\u001b[0m\n\u001b[0;32m    811\u001b[0m         \u001b[0my\u001b[0m \u001b[1;33m=\u001b[0m \u001b[0my\u001b[0m\u001b[1;33m.\u001b[0m\u001b[0mastype\u001b[0m\u001b[1;33m(\u001b[0m\u001b[0mnp\u001b[0m\u001b[1;33m.\u001b[0m\u001b[0mfloat64\u001b[0m\u001b[1;33m)\u001b[0m\u001b[1;33m\u001b[0m\u001b[1;33m\u001b[0m\u001b[0m\n\u001b[0;32m    812\u001b[0m \u001b[1;33m\u001b[0m\u001b[0m\n\u001b[1;32m--> 813\u001b[1;33m     \u001b[0mcheck_consistent_length\u001b[0m\u001b[1;33m(\u001b[0m\u001b[0mX\u001b[0m\u001b[1;33m,\u001b[0m \u001b[0my\u001b[0m\u001b[1;33m)\u001b[0m\u001b[1;33m\u001b[0m\u001b[1;33m\u001b[0m\u001b[0m\n\u001b[0m\u001b[0;32m    814\u001b[0m \u001b[1;33m\u001b[0m\u001b[0m\n\u001b[0;32m    815\u001b[0m     \u001b[1;32mreturn\u001b[0m \u001b[0mX\u001b[0m\u001b[1;33m,\u001b[0m \u001b[0my\u001b[0m\u001b[1;33m\u001b[0m\u001b[1;33m\u001b[0m\u001b[0m\n",
      "\u001b[1;32mC:\\ProgramData\\Anaconda3\\envs\\PrimerosProgramas\\lib\\site-packages\\sklearn\\utils\\validation.py\u001b[0m in \u001b[0;36mcheck_consistent_length\u001b[1;34m(*arrays)\u001b[0m\n\u001b[0;32m    255\u001b[0m     \u001b[1;32mif\u001b[0m \u001b[0mlen\u001b[0m\u001b[1;33m(\u001b[0m\u001b[0muniques\u001b[0m\u001b[1;33m)\u001b[0m \u001b[1;33m>\u001b[0m \u001b[1;36m1\u001b[0m\u001b[1;33m:\u001b[0m\u001b[1;33m\u001b[0m\u001b[1;33m\u001b[0m\u001b[0m\n\u001b[0;32m    256\u001b[0m         raise ValueError(\"Found input variables with inconsistent numbers of\"\n\u001b[1;32m--> 257\u001b[1;33m                          \" samples: %r\" % [int(l) for l in lengths])\n\u001b[0m\u001b[0;32m    258\u001b[0m \u001b[1;33m\u001b[0m\u001b[0m\n\u001b[0;32m    259\u001b[0m \u001b[1;33m\u001b[0m\u001b[0m\n",
      "\u001b[1;31mValueError\u001b[0m: Found input variables with inconsistent numbers of samples: [48029, 20584]"
     ]
    }
   ],
   "source": [
    "from sklearn.ensemble import RandomForestClassifier\n",
    "\n",
    "classifier = RandomForestClassifier(n_estimators = 2000, random_state = 0)\n",
    "classifier.fit(X_train, X_test)\n",
    "print(classifier.score(y_train, y_test))"
   ]
  },
  {
   "cell_type": "code",
   "execution_count": null,
   "metadata": {},
   "outputs": [],
   "source": []
  },
  {
   "cell_type": "code",
   "execution_count": null,
   "metadata": {},
   "outputs": [],
   "source": [
    "#Model training\n",
    "# train a Gaussian Naive Bayes classifier on the training set\n",
    "from sklearn.naive_bayes import GaussianNB\n",
    "\n",
    "\n",
    "# instantiate the model\n",
    "gnb = GaussianNB()\n",
    "\n",
    "\n",
    "# fit the model\n",
    "gnb.fit(X_train, y_train)"
   ]
  },
  {
   "cell_type": "code",
   "execution_count": 91,
   "metadata": {},
   "outputs": [
    {
     "data": {
      "text/plain": [
       "array([0., 0., 0., ..., 0., 0., 0.])"
      ]
     },
     "execution_count": 91,
     "metadata": {},
     "output_type": "execute_result"
    }
   ],
   "source": [
    "y_pred = gnb.predict(X_test)\n",
    "\n",
    "y_pred"
   ]
  },
  {
   "cell_type": "code",
   "execution_count": 92,
   "metadata": {},
   "outputs": [
    {
     "name": "stdout",
     "output_type": "stream",
     "text": [
      "Model accuracy score: 1.0000\n"
     ]
    }
   ],
   "source": [
    "from sklearn.metrics import accuracy_score\n",
    "\n",
    "print('Model accuracy score: {0:0.4f}'. format(accuracy_score(y_test, y_pred)))"
   ]
  },
  {
   "cell_type": "code",
   "execution_count": 93,
   "metadata": {},
   "outputs": [
    {
     "data": {
      "text/plain": [
       "array([0., 0., 0., ..., 0., 0., 1.])"
      ]
     },
     "execution_count": 93,
     "metadata": {},
     "output_type": "execute_result"
    }
   ],
   "source": [
    "y_pred_train = gnb.predict(X_train)\n",
    "\n",
    "y_pred_train"
   ]
  },
  {
   "cell_type": "code",
   "execution_count": 94,
   "metadata": {},
   "outputs": [
    {
     "name": "stdout",
     "output_type": "stream",
     "text": [
      "Training-set accuracy score: 1.0000\n"
     ]
    }
   ],
   "source": [
    "print('Training-set accuracy score: {0:0.4f}'. format(accuracy_score(y_train, y_pred_train)))"
   ]
  },
  {
   "cell_type": "code",
   "execution_count": 95,
   "metadata": {},
   "outputs": [
    {
     "name": "stdout",
     "output_type": "stream",
     "text": [
      "Training set score: 1.0000\n",
      "Test set score: 1.0000\n"
     ]
    }
   ],
   "source": [
    "# print the scores on training and test set\n",
    "\n",
    "print('Training set score: {:.4f}'.format(gnb.score(X_train, y_train)))\n",
    "\n",
    "print('Test set score: {:.4f}'.format(gnb.score(X_test, y_test)))"
   ]
  },
  {
   "cell_type": "code",
   "execution_count": 96,
   "metadata": {},
   "outputs": [
    {
     "data": {
      "text/plain": [
       "0.0000    19383\n",
       "1.0000     1201\n",
       "Name: Marca1, dtype: int64"
      ]
     },
     "execution_count": 96,
     "metadata": {},
     "output_type": "execute_result"
    }
   ],
   "source": [
    "# check class distribution in test set\n",
    "\n",
    "y_test.value_counts()"
   ]
  },
  {
   "cell_type": "code",
   "execution_count": 97,
   "metadata": {},
   "outputs": [
    {
     "name": "stdout",
     "output_type": "stream",
     "text": [
      "Null accuracy score: 0.9417\n"
     ]
    }
   ],
   "source": [
    "# check null accuracy score\n",
    "\n",
    "null_accuracy = (19383/(19383+1201))\n",
    "print('Null accuracy score: {0:0.4f}'. format(null_accuracy))"
   ]
  },
  {
   "cell_type": "code",
   "execution_count": 98,
   "metadata": {},
   "outputs": [
    {
     "name": "stdout",
     "output_type": "stream",
     "text": [
      "Confusion matrix\n",
      "\n",
      " [[19383     0]\n",
      " [    0  1201]]\n",
      "\n",
      "True Positives(TP) =  19383\n",
      "\n",
      "True Negatives(TN) =  1201\n",
      "\n",
      "False Positives(FP) =  0\n",
      "\n",
      "False Negatives(FN) =  0\n"
     ]
    }
   ],
   "source": [
    "# Print the Confusion Matrix and slice it into four pieces\n",
    "\n",
    "from sklearn.metrics import confusion_matrix\n",
    "\n",
    "cm = confusion_matrix(y_test, y_pred)\n",
    "\n",
    "print('Confusion matrix\\n\\n', cm)\n",
    "\n",
    "print('\\nTrue Positives(TP) = ', cm[0,0])\n",
    "\n",
    "print('\\nTrue Negatives(TN) = ', cm[1,1])\n",
    "\n",
    "print('\\nFalse Positives(FP) = ', cm[0,1])\n",
    "\n",
    "print('\\nFalse Negatives(FN) = ', cm[1,0])"
   ]
  },
  {
   "cell_type": "code",
   "execution_count": 99,
   "metadata": {},
   "outputs": [
    {
     "data": {
      "text/plain": [
       "<matplotlib.axes._subplots.AxesSubplot at 0xce111fe8c8>"
      ]
     },
     "execution_count": 99,
     "metadata": {},
     "output_type": "execute_result"
    },
    {
     "data": {
      "image/png": "[encoded data removed]",
      "text/plain": [
       "<Figure size 432x288 with 2 Axes>"
      ]
     },
     "metadata": {
      "needs_background": "light"
     },
     "output_type": "display_data"
    }
   ],
   "source": [
    "# visualize confusion matrix with seaborn heatmap\n",
    "\n",
    "cm_matrix = pd.DataFrame(data=cm, columns=['Actual Positive:1', 'Actual Negative:0'], \n",
    "                                 index=['Predict Positive:1', 'Predict Negative:0'])\n",
    "\n",
    "sns.heatmap(cm_matrix, annot=True, fmt='d', cmap='YlGnBu')"
   ]
  },
  {
   "cell_type": "code",
   "execution_count": 100,
   "metadata": {},
   "outputs": [
    {
     "data": {
      "text/plain": [
       "array([[1., 0.],\n",
       "       [1., 0.],\n",
       "       [1., 0.],\n",
       "       [1., 0.],\n",
       "       [1., 0.],\n",
       "       [1., 0.],\n",
       "       [1., 0.],\n",
       "       [1., 0.],\n",
       "       [0., 1.],\n",
       "       [1., 0.]])"
      ]
     },
     "execution_count": 100,
     "metadata": {},
     "output_type": "execute_result"
    }
   ],
   "source": [
    "# print the first 10 predicted probabilities of two classes- 0 and 1\n",
    "pd.options.display.float_format = '{:.4f}'.format\n",
    "y_pred_prob = gnb.predict_proba(X_test)[0:10]\n",
    "\n",
    "y_pred_prob"
   ]
  },
  {
   "cell_type": "code",
   "execution_count": 101,
   "metadata": {},
   "outputs": [
    {
     "data": {
      "text/html": [
       "<div>\n",
       "<style scoped>\n",
       "    .dataframe tbody tr th:only-of-type {\n",
       "        vertical-align: middle;\n",
       "    }\n",
       "\n",
       "    .dataframe tbody tr th {\n",
       "        vertical-align: top;\n",
       "    }\n",
       "\n",
       "    .dataframe thead th {\n",
       "        text-align: right;\n",
       "    }\n",
       "</style>\n",
       "<table border=\"1\" class=\"dataframe\">\n",
       "  <thead>\n",
       "    <tr style=\"text-align: right;\">\n",
       "      <th></th>\n",
       "      <th>Prob No Comprar</th>\n",
       "      <th>Prob Comprar</th>\n",
       "    </tr>\n",
       "  </thead>\n",
       "  <tbody>\n",
       "    <tr>\n",
       "      <th>0</th>\n",
       "      <td>1.0000</td>\n",
       "      <td>0.0000</td>\n",
       "    </tr>\n",
       "    <tr>\n",
       "      <th>1</th>\n",
       "      <td>1.0000</td>\n",
       "      <td>0.0000</td>\n",
       "    </tr>\n",
       "    <tr>\n",
       "      <th>2</th>\n",
       "      <td>1.0000</td>\n",
       "      <td>0.0000</td>\n",
       "    </tr>\n",
       "    <tr>\n",
       "      <th>3</th>\n",
       "      <td>1.0000</td>\n",
       "      <td>0.0000</td>\n",
       "    </tr>\n",
       "    <tr>\n",
       "      <th>4</th>\n",
       "      <td>1.0000</td>\n",
       "      <td>0.0000</td>\n",
       "    </tr>\n",
       "    <tr>\n",
       "      <th>5</th>\n",
       "      <td>1.0000</td>\n",
       "      <td>0.0000</td>\n",
       "    </tr>\n",
       "    <tr>\n",
       "      <th>6</th>\n",
       "      <td>1.0000</td>\n",
       "      <td>0.0000</td>\n",
       "    </tr>\n",
       "    <tr>\n",
       "      <th>7</th>\n",
       "      <td>1.0000</td>\n",
       "      <td>0.0000</td>\n",
       "    </tr>\n",
       "    <tr>\n",
       "      <th>8</th>\n",
       "      <td>0.0000</td>\n",
       "      <td>1.0000</td>\n",
       "    </tr>\n",
       "    <tr>\n",
       "      <th>9</th>\n",
       "      <td>1.0000</td>\n",
       "      <td>0.0000</td>\n",
       "    </tr>\n",
       "  </tbody>\n",
       "</table>\n",
       "</div>"
      ],
      "text/plain": [
       "   Prob No Comprar  Prob Comprar\n",
       "0           1.0000        0.0000\n",
       "1           1.0000        0.0000\n",
       "2           1.0000        0.0000\n",
       "3           1.0000        0.0000\n",
       "4           1.0000        0.0000\n",
       "5           1.0000        0.0000\n",
       "6           1.0000        0.0000\n",
       "7           1.0000        0.0000\n",
       "8           0.0000        1.0000\n",
       "9           1.0000        0.0000"
      ]
     },
     "execution_count": 101,
     "metadata": {},
     "output_type": "execute_result"
    }
   ],
   "source": [
    "# store the probabilities in dataframe\n",
    "\n",
    "y_pred_prob_df = pd.DataFrame(data=y_pred_prob, columns=['Prob No Comprar', 'Prob Comprar'])\n",
    "\n",
    "y_pred_prob_df"
   ]
  },
  {
   "cell_type": "code",
   "execution_count": 102,
   "metadata": {},
   "outputs": [
    {
     "data": {
      "text/plain": [
       "array([0., 0., 0., 0., 0., 0., 0., 0., 1., 0.])"
      ]
     },
     "execution_count": 102,
     "metadata": {},
     "output_type": "execute_result"
    }
   ],
   "source": [
    "# print the first 10 predicted probabilities for class 1 - Probability of >50K\n",
    "\n",
    "gnb.predict_proba(X_test)[0:10, 1]"
   ]
  },
  {
   "cell_type": "code",
   "execution_count": 103,
   "metadata": {},
   "outputs": [],
   "source": [
    "# store the predicted probabilities for class 1 - Probability of >50K\n",
    "\n",
    "y_pred1 = gnb.predict_proba(X_test)[:, 1]"
   ]
  },
  {
   "cell_type": "code",
   "execution_count": 104,
   "metadata": {},
   "outputs": [
    {
     "data": {
      "text/plain": [
       "Text(0, 0.5, 'Frequency')"
      ]
     },
     "execution_count": 104,
     "metadata": {},
     "output_type": "execute_result"
    },
    {
     "data": {
      "image/png": "[encoded data removed]",
      "text/plain": [
       "<Figure size 432x288 with 1 Axes>"
      ]
     },
     "metadata": {
      "needs_background": "light"
     },
     "output_type": "display_data"
    }
   ],
   "source": [
    "# plot histogram of predicted probabilities\n",
    "\n",
    "\n",
    "# adjust the font size \n",
    "plt.rcParams['font.size'] = 12\n",
    "\n",
    "\n",
    "# plot histogram with 10 bins\n",
    "plt.hist(y_pred1, bins = 10)\n",
    "\n",
    "\n",
    "# set the title of predicted probabilities\n",
    "plt.title('Histogram of predicted probabilities of Buying')\n",
    "\n",
    "\n",
    "# set the x-axis limit\n",
    "plt.xlim(0,1)\n",
    "\n",
    "\n",
    "# set the title\n",
    "plt.xlabel('Predicted probabilities of Buying')\n",
    "plt.ylabel('Frequency')"
   ]
  }
 ],
 "metadata": {
  "kernelspec": {
   "display_name": "Python 3",
   "language": "python",
   "name": "python3"
  },
  "language_info": {
   "codemirror_mode": {
    "name": "ipython",
    "version": 3
   },
   "file_extension": ".py",
   "mimetype": "text/x-python",
   "name": "python",
   "nbconvert_exporter": "python",
   "pygments_lexer": "ipython3",
   "version": "3.7.6"
  }
 },
 "nbformat": 4,
 "nbformat_minor": 4
}
